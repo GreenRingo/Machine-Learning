{
 "cells": [
  {
   "cell_type": "code",
   "execution_count": 87,
   "metadata": {},
   "outputs": [],
   "source": [
    "import numpy as np\n",
    "import pandas as pd\n",
    "import seaborn as sns\n",
    "import matplotlib.pyplot as plt\n",
    "from sklearn.model_selection import train_test_split\n",
    "from sklearn.neighbors import KNeighborsClassifier\n",
    "from sklearn.metrics import accuracy_score, balanced_accuracy_score\n",
    "from sklearn.metrics import precision_score, recall_score, f1_score, classification_report\n",
    "from sklearn.model_selection import cross_val_score, cross_validate\n",
    "from sklearn.model_selection import GridSearchCV\n",
    "from sklearn.model_selection import learning_curve, validation_curve\n",
    "from sklearn.model_selection import KFold, RepeatedKFold, ShuffleSplit, StratifiedKFold\n",
    "%matplotlib inline \n",
    "sns.set(style=\"ticks\")"
   ]
  },
  {
   "cell_type": "code",
   "execution_count": 88,
   "metadata": {},
   "outputs": [
    {
     "data": {
      "text/plain": [
       "(653, 4)"
      ]
     },
     "execution_count": 88,
     "metadata": {},
     "output_type": "execute_result"
    }
   ],
   "source": [
    "#ph-recognition\n",
    "#Try to predict pH value based on RGB color \n",
    "data = pd.read_csv('ph-data.csv', sep=\",\")\n",
    "data.shape"
   ]
  },
  {
   "cell_type": "code",
   "execution_count": 89,
   "metadata": {},
   "outputs": [
    {
     "data": {
      "text/html": [
       "<div>\n",
       "<style scoped>\n",
       "    .dataframe tbody tr th:only-of-type {\n",
       "        vertical-align: middle;\n",
       "    }\n",
       "\n",
       "    .dataframe tbody tr th {\n",
       "        vertical-align: top;\n",
       "    }\n",
       "\n",
       "    .dataframe thead th {\n",
       "        text-align: right;\n",
       "    }\n",
       "</style>\n",
       "<table border=\"1\" class=\"dataframe\">\n",
       "  <thead>\n",
       "    <tr style=\"text-align: right;\">\n",
       "      <th></th>\n",
       "      <th>blue</th>\n",
       "      <th>green</th>\n",
       "      <th>red</th>\n",
       "      <th>label</th>\n",
       "    </tr>\n",
       "  </thead>\n",
       "  <tbody>\n",
       "    <tr>\n",
       "      <th>0</th>\n",
       "      <td>36</td>\n",
       "      <td>27</td>\n",
       "      <td>231</td>\n",
       "      <td>0</td>\n",
       "    </tr>\n",
       "    <tr>\n",
       "      <th>1</th>\n",
       "      <td>36</td>\n",
       "      <td>84</td>\n",
       "      <td>250</td>\n",
       "      <td>1</td>\n",
       "    </tr>\n",
       "    <tr>\n",
       "      <th>2</th>\n",
       "      <td>37</td>\n",
       "      <td>164</td>\n",
       "      <td>255</td>\n",
       "      <td>2</td>\n",
       "    </tr>\n",
       "    <tr>\n",
       "      <th>3</th>\n",
       "      <td>22</td>\n",
       "      <td>205</td>\n",
       "      <td>255</td>\n",
       "      <td>3</td>\n",
       "    </tr>\n",
       "    <tr>\n",
       "      <th>4</th>\n",
       "      <td>38</td>\n",
       "      <td>223</td>\n",
       "      <td>221</td>\n",
       "      <td>4</td>\n",
       "    </tr>\n",
       "  </tbody>\n",
       "</table>\n",
       "</div>"
      ],
      "text/plain": [
       "   blue  green  red  label\n",
       "0    36     27  231      0\n",
       "1    36     84  250      1\n",
       "2    37    164  255      2\n",
       "3    22    205  255      3\n",
       "4    38    223  221      4"
      ]
     },
     "execution_count": 89,
     "metadata": {},
     "output_type": "execute_result"
    }
   ],
   "source": [
    "data.head()"
   ]
  },
  {
   "cell_type": "code",
   "execution_count": 90,
   "metadata": {},
   "outputs": [
    {
     "data": {
      "text/html": [
       "<div>\n",
       "<style scoped>\n",
       "    .dataframe tbody tr th:only-of-type {\n",
       "        vertical-align: middle;\n",
       "    }\n",
       "\n",
       "    .dataframe tbody tr th {\n",
       "        vertical-align: top;\n",
       "    }\n",
       "\n",
       "    .dataframe thead th {\n",
       "        text-align: right;\n",
       "    }\n",
       "</style>\n",
       "<table border=\"1\" class=\"dataframe\">\n",
       "  <thead>\n",
       "    <tr style=\"text-align: right;\">\n",
       "      <th></th>\n",
       "      <th>blue</th>\n",
       "      <th>green</th>\n",
       "      <th>red</th>\n",
       "      <th>label</th>\n",
       "    </tr>\n",
       "  </thead>\n",
       "  <tbody>\n",
       "    <tr>\n",
       "      <th>648</th>\n",
       "      <td>201</td>\n",
       "      <td>123</td>\n",
       "      <td>0</td>\n",
       "      <td>10</td>\n",
       "    </tr>\n",
       "    <tr>\n",
       "      <th>649</th>\n",
       "      <td>203</td>\n",
       "      <td>51</td>\n",
       "      <td>46</td>\n",
       "      <td>11</td>\n",
       "    </tr>\n",
       "    <tr>\n",
       "      <th>650</th>\n",
       "      <td>169</td>\n",
       "      <td>62</td>\n",
       "      <td>48</td>\n",
       "      <td>12</td>\n",
       "    </tr>\n",
       "    <tr>\n",
       "      <th>651</th>\n",
       "      <td>173</td>\n",
       "      <td>37</td>\n",
       "      <td>79</td>\n",
       "      <td>13</td>\n",
       "    </tr>\n",
       "    <tr>\n",
       "      <th>652</th>\n",
       "      <td>131</td>\n",
       "      <td>2</td>\n",
       "      <td>77</td>\n",
       "      <td>14</td>\n",
       "    </tr>\n",
       "  </tbody>\n",
       "</table>\n",
       "</div>"
      ],
      "text/plain": [
       "     blue  green  red  label\n",
       "648   201    123    0     10\n",
       "649   203     51   46     11\n",
       "650   169     62   48     12\n",
       "651   173     37   79     13\n",
       "652   131      2   77     14"
      ]
     },
     "execution_count": 90,
     "metadata": {},
     "output_type": "execute_result"
    }
   ],
   "source": [
    "data.tail()"
   ]
  },
  {
   "cell_type": "code",
   "execution_count": 91,
   "metadata": {},
   "outputs": [
    {
     "data": {
      "text/plain": [
       "blue     int64\n",
       "green    int64\n",
       "red      int64\n",
       "label    int64\n",
       "dtype: object"
      ]
     },
     "execution_count": 91,
     "metadata": {},
     "output_type": "execute_result"
    }
   ],
   "source": [
    "data.dtypes"
   ]
  },
  {
   "cell_type": "code",
   "execution_count": 92,
   "metadata": {},
   "outputs": [
    {
     "data": {
      "text/plain": [
       "blue     0\n",
       "green    0\n",
       "red      0\n",
       "label    0\n",
       "dtype: int64"
      ]
     },
     "execution_count": 92,
     "metadata": {},
     "output_type": "execute_result"
    }
   ],
   "source": [
    "# проверим есть ли пропущенные значения\n",
    "data.isnull().sum()"
   ]
  },
  {
   "cell_type": "code",
   "execution_count": null,
   "metadata": {},
   "outputs": [],
   "source": []
  },
  {
   "cell_type": "code",
   "execution_count": 93,
   "metadata": {},
   "outputs": [],
   "source": [
    "#3) С использованием метода train_test_split разделите выборку на обучающую и тестовую"
   ]
  },
  {
   "cell_type": "code",
   "execution_count": 94,
   "metadata": {},
   "outputs": [],
   "source": [
    "x_train, x_test, y_train, y_test = train_test_split(data.loc[:, data.columns != 'label'], \n",
    "                                                   data['label'], \n",
    "                                                   test_size = 0.2, \n",
    "                                                   random_state = 40)"
   ]
  },
  {
   "cell_type": "code",
   "execution_count": 95,
   "metadata": {},
   "outputs": [
    {
     "data": {
      "text/plain": [
       "((522, 3), (522,))"
      ]
     },
     "execution_count": 95,
     "metadata": {},
     "output_type": "execute_result"
    }
   ],
   "source": [
    "# Размер обучающей выборки\n",
    "x_train.shape, y_train.shape"
   ]
  },
  {
   "cell_type": "code",
   "execution_count": 96,
   "metadata": {},
   "outputs": [
    {
     "data": {
      "text/plain": [
       "((131, 3), (131,))"
      ]
     },
     "execution_count": 96,
     "metadata": {},
     "output_type": "execute_result"
    }
   ],
   "source": [
    "# Размер тестовой выборки\n",
    "x_test.shape, y_test.shape"
   ]
  },
  {
   "cell_type": "code",
   "execution_count": null,
   "metadata": {},
   "outputs": [],
   "source": []
  },
  {
   "cell_type": "code",
   "execution_count": 97,
   "metadata": {},
   "outputs": [
    {
     "data": {
      "text/plain": [
       "array([13, 12,  2,  2, 10,  3, 10,  2,  2, 11,  3,  8,  8,  6, 12,  6,  6,\n",
       "        5, 13,  7,  0, 14,  4, 11,  3,  8,  4, 13, 12, 13, 14,  4,  1,  9,\n",
       "        4,  7,  4, 13,  3,  9,  1,  9,  0,  3,  5,  1, 13,  7,  3,  5, 12,\n",
       "       12, 11,  7,  8,  9, 14, 12,  9,  0,  4, 11, 11,  0, 13, 13,  9,  7,\n",
       "        3, 10, 12, 10,  4, 14, 12,  8,  2,  0,  9,  4, 11,  2,  1,  1, 13,\n",
       "        8, 10,  1, 10, 12, 11,  0,  4,  2,  4,  5, 13, 14,  1, 14,  9,  2,\n",
       "       10,  2,  6, 12,  2,  5,  6,  8,  5,  8, 13,  1,  0,  0,  1,  5,  6,\n",
       "        0,  3,  2,  7,  3,  0,  2, 14,  8,  1,  1,  6], dtype=int64)"
      ]
     },
     "execution_count": 97,
     "metadata": {},
     "output_type": "execute_result"
    }
   ],
   "source": [
    "#4) Обучите модель ближайших соседей для произвольно заданного гиперпараметра K. \n",
    "#Оцените качество модели с помощью трех подходящих для задачи метрик.\n",
    "\n",
    "# 3 ближайших соседа\n",
    "cl1_1 = KNeighborsClassifier(n_neighbors=3)\n",
    "cl1_1.fit(x_train, y_train)\n",
    "target1_1 = cl1_1.predict(x_test)\n",
    "target1_1"
   ]
  },
  {
   "cell_type": "code",
   "execution_count": 98,
   "metadata": {},
   "outputs": [
    {
     "data": {
      "text/plain": [
       "array([13, 12,  1,  2, 10,  2, 10,  2,  2, 11,  3,  8,  8,  6, 12,  6,  6,\n",
       "        4, 13,  7,  0, 14,  3, 11,  3,  6,  4, 13, 12, 13, 14,  4,  1,  9,\n",
       "        4,  6,  4, 13,  3,  9,  1,  9,  0,  3,  5,  1, 13,  7,  3,  5, 12,\n",
       "       12, 11,  7,  8,  9, 14, 12,  9,  1,  4, 11, 11,  0, 13, 13,  9,  4,\n",
       "        3, 10, 12, 10,  4, 14, 12,  8,  0,  0,  9,  5, 11,  2,  1,  1, 14,\n",
       "        8, 10,  1, 10, 12, 11,  0,  4,  2,  4,  5, 13, 14,  1, 14,  9,  2,\n",
       "       10,  2,  6, 13,  2,  5,  6,  8,  6,  8, 13,  2,  0,  0,  1,  5,  6,\n",
       "        0,  3,  2,  7,  3,  0,  2, 14,  8,  1,  1,  6], dtype=int64)"
      ]
     },
     "execution_count": 98,
     "metadata": {},
     "output_type": "execute_result"
    }
   ],
   "source": [
    "#5 ближайших соседей\n",
    "\n",
    "cl1_2 = KNeighborsClassifier(n_neighbors=5)\n",
    "cl1_2.fit(x_train, y_train)\n",
    "target1_2 = cl1_2.predict(x_test)\n",
    "target1_2"
   ]
  },
  {
   "cell_type": "code",
   "execution_count": 99,
   "metadata": {},
   "outputs": [
    {
     "data": {
      "text/plain": [
       "0.7175572519083969"
      ]
     },
     "execution_count": 99,
     "metadata": {},
     "output_type": "execute_result"
    }
   ],
   "source": [
    "#метрика accurancy\n",
    "# 3 ближайших соседа\n",
    "accuracy_score(y_test, target1_1)"
   ]
  },
  {
   "cell_type": "code",
   "execution_count": 100,
   "metadata": {},
   "outputs": [
    {
     "data": {
      "text/plain": [
       "0.6641221374045801"
      ]
     },
     "execution_count": 100,
     "metadata": {},
     "output_type": "execute_result"
    }
   ],
   "source": [
    "#5 ближайших соседей\n",
    "accuracy_score(y_test, target1_2)"
   ]
  },
  {
   "cell_type": "code",
   "execution_count": 101,
   "metadata": {},
   "outputs": [],
   "source": [
    "#чтобы избежать проблемы дисбаланса классов используем метрику balanced_accuracy_score\n",
    "# Конвертация целевого признака в бинарный\n",
    "def convert_target_to_binary(array:np.ndarray, target:int) -> np.ndarray:\n",
    "    # Если целевой признак совпадает с указанным, то 1 иначе 0\n",
    "    res = [1 if x==target else 0 for x in array]\n",
    "    return res"
   ]
  },
  {
   "cell_type": "code",
   "execution_count": 102,
   "metadata": {},
   "outputs": [
    {
     "data": {
      "text/plain": [
       "[(13, 0),\n",
       " (13, 0),\n",
       " (2, 0),\n",
       " (2, 0),\n",
       " (12, 0),\n",
       " (3, 0),\n",
       " (10, 0),\n",
       " (3, 0),\n",
       " (3, 0),\n",
       " (11, 0),\n",
       " (3, 0),\n",
       " (8, 0),\n",
       " (10, 0),\n",
       " (6, 1),\n",
       " (12, 0),\n",
       " (7, 0),\n",
       " (8, 0),\n",
       " (6, 1),\n",
       " (12, 0),\n",
       " (7, 0),\n",
       " (0, 0),\n",
       " (14, 0),\n",
       " (2, 0),\n",
       " (11, 0),\n",
       " (3, 0),\n",
       " (8, 0),\n",
       " (4, 0),\n",
       " (13, 0),\n",
       " (12, 0),\n",
       " (14, 0),\n",
       " (14, 0),\n",
       " (4, 0),\n",
       " (1, 0),\n",
       " (9, 0),\n",
       " (4, 0),\n",
       " (7, 0),\n",
       " (4, 0),\n",
       " (13, 0),\n",
       " (6, 1),\n",
       " (9, 0),\n",
       " (1, 0),\n",
       " (9, 0),\n",
       " (2, 0),\n",
       " (3, 0),\n",
       " (6, 1),\n",
       " (1, 0),\n",
       " (13, 0),\n",
       " (7, 0),\n",
       " (3, 0),\n",
       " (5, 0),\n",
       " (12, 0),\n",
       " (12, 0),\n",
       " (11, 0),\n",
       " (7, 0),\n",
       " (8, 0),\n",
       " (9, 0),\n",
       " (14, 0),\n",
       " (12, 0),\n",
       " (9, 0),\n",
       " (0, 0),\n",
       " (5, 0),\n",
       " (11, 0),\n",
       " (10, 0),\n",
       " (1, 0),\n",
       " (13, 0),\n",
       " (13, 0),\n",
       " (9, 0),\n",
       " (5, 0),\n",
       " (3, 0),\n",
       " (10, 0),\n",
       " (12, 0),\n",
       " (10, 0),\n",
       " (8, 0),\n",
       " (14, 0),\n",
       " (12, 0),\n",
       " (8, 0),\n",
       " (3, 0),\n",
       " (0, 0),\n",
       " (9, 0),\n",
       " (7, 0),\n",
       " (13, 0),\n",
       " (2, 0),\n",
       " (1, 0),\n",
       " (1, 0),\n",
       " (13, 0),\n",
       " (8, 0),\n",
       " (11, 0),\n",
       " (1, 0),\n",
       " (10, 0),\n",
       " (11, 0),\n",
       " (11, 0),\n",
       " (3, 0),\n",
       " (6, 1),\n",
       " (2, 0),\n",
       " (5, 0),\n",
       " (6, 1),\n",
       " (13, 0),\n",
       " (14, 0),\n",
       " (1, 0),\n",
       " (13, 0),\n",
       " (9, 0),\n",
       " (2, 0),\n",
       " (10, 0),\n",
       " (2, 0),\n",
       " (6, 1),\n",
       " (13, 0),\n",
       " (2, 0),\n",
       " (6, 1),\n",
       " (6, 1),\n",
       " (8, 0),\n",
       " (5, 0),\n",
       " (10, 0),\n",
       " (13, 0),\n",
       " (1, 0),\n",
       " (1, 0),\n",
       " (2, 0),\n",
       " (1, 0),\n",
       " (5, 0),\n",
       " (6, 1),\n",
       " (0, 0),\n",
       " (3, 0),\n",
       " (2, 0),\n",
       " (7, 0),\n",
       " (4, 0),\n",
       " (0, 0),\n",
       " (2, 0),\n",
       " (13, 0),\n",
       " (8, 0),\n",
       " (0, 0),\n",
       " (1, 0),\n",
       " (6, 1)]"
      ]
     },
     "execution_count": 102,
     "metadata": {},
     "output_type": "execute_result"
    }
   ],
   "source": [
    "# Если целевой признак ==6, \n",
    "# то будем считать этот случай 1 в бинарном признаке\n",
    "bin_y_test = convert_target_to_binary(y_test, 6)\n",
    "list(zip(y_test, bin_y_test))"
   ]
  },
  {
   "cell_type": "code",
   "execution_count": 103,
   "metadata": {},
   "outputs": [],
   "source": [
    "# Конвертация предсказанных признаков\n",
    "bin_target1_1 = convert_target_to_binary(target1_1, 6)\n",
    "bin_target1_2 = convert_target_to_binary(target1_2, 6)"
   ]
  },
  {
   "cell_type": "code",
   "execution_count": 104,
   "metadata": {},
   "outputs": [
    {
     "data": {
      "text/plain": [
       "0.7189393939393939"
      ]
     },
     "execution_count": 104,
     "metadata": {},
     "output_type": "execute_result"
    }
   ],
   "source": [
    "#3 neighbours\n",
    "balanced_accuracy_score(bin_y_test, bin_target1_1)"
   ]
  },
  {
   "cell_type": "code",
   "execution_count": 105,
   "metadata": {},
   "outputs": [
    {
     "data": {
      "text/plain": [
       "0.7064393939393939"
      ]
     },
     "execution_count": 105,
     "metadata": {},
     "output_type": "execute_result"
    }
   ],
   "source": [
    "#5 neighbours\n",
    "balanced_accuracy_score(bin_y_test, bin_target1_2)"
   ]
  },
  {
   "cell_type": "code",
   "execution_count": 106,
   "metadata": {},
   "outputs": [
    {
     "data": {
      "text/plain": [
       "(0.7142857142857143, 0.45454545454545453)"
      ]
     },
     "execution_count": 106,
     "metadata": {},
     "output_type": "execute_result"
    }
   ],
   "source": [
    "# По умолчанию метрики precision считаются для 1 класса бинарной классификации\n",
    "# Для 3 ближайших соседей\n",
    "precision_score(bin_y_test, bin_target1_1), recall_score(bin_y_test, bin_target1_1)"
   ]
  },
  {
   "cell_type": "code",
   "execution_count": 107,
   "metadata": {},
   "outputs": [
    {
     "data": {
      "text/plain": [
       "(0.5, 0.45454545454545453)"
      ]
     },
     "execution_count": 107,
     "metadata": {},
     "output_type": "execute_result"
    }
   ],
   "source": [
    "# Для 5 ближайших соседей\n",
    "precision_score(bin_y_test, bin_target1_2), recall_score(bin_y_test, bin_target1_2)"
   ]
  },
  {
   "cell_type": "code",
   "execution_count": null,
   "metadata": {},
   "outputs": [],
   "source": []
  },
  {
   "cell_type": "code",
   "execution_count": 112,
   "metadata": {},
   "outputs": [],
   "source": [
    "#5)Постройте модель и оцените качество модели с использованием кросс-валидации. \n",
    "#Проведите эксперименты с тремя различными стратегиями кросс-валидации.\n",
    "cols_x = ['blue', 'green', 'red']   \n",
    "# целевой признак\n",
    "col_y = 'label'\n",
    "scores = cross_val_score(KNeighborsClassifier(n_neighbors=3), \n",
    "                        data[cols_x], data[col_y], cv=4)"
   ]
  },
  {
   "cell_type": "code",
   "execution_count": 114,
   "metadata": {},
   "outputs": [
    {
     "data": {
      "text/plain": [
       "array([0.84146341, 0.49390244, 0.79141104, 0.69135802])"
      ]
     },
     "execution_count": 114,
     "metadata": {},
     "output_type": "execute_result"
    }
   ],
   "source": [
    "# Значение метрики accuracy для 4 фолдов\n",
    "scores"
   ]
  },
  {
   "cell_type": "code",
   "execution_count": 115,
   "metadata": {},
   "outputs": [
    {
     "data": {
      "text/plain": [
       "0.70453373032367"
      ]
     },
     "execution_count": 115,
     "metadata": {},
     "output_type": "execute_result"
    }
   ],
   "source": [
    "# Усредненное значение метрики accuracy для 4 фолдов\n",
    "np.mean(scores)"
   ]
  },
  {
   "cell_type": "code",
   "execution_count": 116,
   "metadata": {},
   "outputs": [],
   "source": [
    "scoring = {'precision': 'precision_weighted', \n",
    "           'recall': 'recall_weighted',\n",
    "           'f1': 'f1_weighted'}"
   ]
  },
  {
   "cell_type": "code",
   "execution_count": 119,
   "metadata": {},
   "outputs": [
    {
     "data": {
      "text/plain": [
       "{'fit_time': array([0.00501561, 0.        , 0.        ]),\n",
       " 'score_time': array([0.03996086, 0.02814031, 0.02998614]),\n",
       " 'test_f1': array([0.76280653, 0.62050182, 0.64859206]),\n",
       " 'test_precision': array([0.77082466, 0.63642973, 0.67360932]),\n",
       " 'test_recall': array([0.76233184, 0.62162162, 0.65384615]),\n",
       " 'train_f1': array([0.75870103, 0.78513168, 0.75816172]),\n",
       " 'train_precision': array([0.76320672, 0.79188109, 0.76575815]),\n",
       " 'train_recall': array([0.76046512, 0.78422274, 0.75730337])}"
      ]
     },
     "execution_count": 119,
     "metadata": {},
     "output_type": "execute_result"
    }
   ],
   "source": [
    "#использование cross_validate, которая позволяет использовать для оценки несколько метрик и возращает более детальную информацию\n",
    "scores = cross_validate(KNeighborsClassifier(n_neighbors=5), \n",
    "                        data[cols_x], data[col_y], scoring=scoring, \n",
    "                        cv=3, return_train_score=True)\n",
    "scores"
   ]
  },
  {
   "cell_type": "code",
   "execution_count": 122,
   "metadata": {},
   "outputs": [
    {
     "data": {
      "text/plain": [
       "array([0.84146341, 0.49693252, 0.79141104, 0.6993865 ])"
      ]
     },
     "execution_count": 122,
     "metadata": {},
     "output_type": "execute_result"
    }
   ],
   "source": [
    "#k-fold - стратегия кросс-валидации\n",
    "scores = cross_val_score(KNeighborsClassifier(n_neighbors=3), \n",
    "                         data[cols_x], data[col_y], \n",
    "                         cv=KFold(n_splits=4))\n",
    "scores"
   ]
  },
  {
   "cell_type": "code",
   "execution_count": 125,
   "metadata": {},
   "outputs": [
    {
     "data": {
      "text/plain": [
       "{'fit_time': array([0.0049963 , 0.00499797, 0.00499701]),\n",
       " 'score_time': array([0.08995414, 0.02998543, 0.02998424]),\n",
       " 'test_f1': array([0.76650823, 0.63937944, 0.6494849 ]),\n",
       " 'test_precision': array([0.77304384, 0.6593833 , 0.66252848]),\n",
       " 'test_recall': array([0.76605505, 0.63761468, 0.65437788]),\n",
       " 'train_f1': array([0.79135955, 0.83971524, 0.80908048]),\n",
       " 'train_precision': array([0.7954776 , 0.84475192, 0.81209178]),\n",
       " 'train_recall': array([0.79310345, 0.83908046, 0.80963303])}"
      ]
     },
     "execution_count": 125,
     "metadata": {},
     "output_type": "execute_result"
    }
   ],
   "source": [
    "scores = cross_validate(KNeighborsClassifier(n_neighbors=3), \n",
    "                        data[cols_x], data[col_y], scoring=scoring, \n",
    "                        cv=KFold(n_splits=3), return_train_score=True)\n",
    "scores"
   ]
  },
  {
   "cell_type": "code",
   "execution_count": 126,
   "metadata": {},
   "outputs": [
    {
     "data": {
      "text/plain": [
       "array([0.72560976, 0.67682927, 0.70121951, 0.73170732, 0.65243902])"
      ]
     },
     "execution_count": 126,
     "metadata": {},
     "output_type": "execute_result"
    }
   ],
   "source": [
    "#ShuffleSplit\n",
    "scores = cross_val_score(KNeighborsClassifier(n_neighbors=3), \n",
    "                         data[cols_x], data[col_y], \n",
    "                         cv=ShuffleSplit(n_splits=5, test_size=0.25))\n",
    "scores"
   ]
  },
  {
   "cell_type": "code",
   "execution_count": null,
   "metadata": {},
   "outputs": [],
   "source": []
  },
  {
   "cell_type": "code",
   "execution_count": 127,
   "metadata": {},
   "outputs": [
    {
     "data": {
      "text/plain": [
       "[{'n_neighbors': array([ 3,  6,  9, 12, 15, 18, 21, 24, 27, 30])}]"
      ]
     },
     "execution_count": 127,
     "metadata": {},
     "output_type": "execute_result"
    }
   ],
   "source": [
    "#6)Произведите подбор гиперпараметра K с использованием GridSearchCV и кросс-валидации. \n",
    "\n",
    "n_range = np.array(range(3,33,3))\n",
    "tuned_parameters = [{'n_neighbors': n_range}]\n",
    "tuned_parameters"
   ]
  },
  {
   "cell_type": "code",
   "execution_count": 128,
   "metadata": {},
   "outputs": [
    {
     "name": "stderr",
     "output_type": "stream",
     "text": [
      "C:\\anaconda3\\lib\\site-packages\\sklearn\\model_selection\\_search.py:841: DeprecationWarning: The default of the `iid` parameter will change from True to False in version 0.22 and will be removed in 0.24. This will change numeric results when test-set sizes are unequal.\n",
      "  DeprecationWarning)\n"
     ]
    },
    {
     "data": {
      "text/plain": [
       "GridSearchCV(cv=5, error_score='raise-deprecating',\n",
       "       estimator=KNeighborsClassifier(algorithm='auto', leaf_size=30, metric='minkowski',\n",
       "           metric_params=None, n_jobs=None, n_neighbors=5, p=2,\n",
       "           weights='uniform'),\n",
       "       fit_params=None, iid='warn', n_jobs=None,\n",
       "       param_grid=[{'n_neighbors': array([ 3,  6,  9, 12, 15, 18, 21, 24, 27, 30])}],\n",
       "       pre_dispatch='2*n_jobs', refit=True, return_train_score='warn',\n",
       "       scoring='accuracy', verbose=0)"
      ]
     },
     "execution_count": 128,
     "metadata": {},
     "output_type": "execute_result"
    }
   ],
   "source": [
    "clf_gs = GridSearchCV(KNeighborsClassifier(), tuned_parameters, cv=5, scoring='accuracy')\n",
    "clf_gs.fit(x_train, y_train)"
   ]
  },
  {
   "cell_type": "code",
   "execution_count": 129,
   "metadata": {},
   "outputs": [
    {
     "name": "stderr",
     "output_type": "stream",
     "text": [
      "C:\\anaconda3\\lib\\site-packages\\sklearn\\utils\\deprecation.py:125: FutureWarning: You are accessing a training score ('mean_train_score'), which will not be available by default any more in 0.21. If you need training scores, please set return_train_score=True\n",
      "  warnings.warn(*warn_args, **warn_kwargs)\n",
      "C:\\anaconda3\\lib\\site-packages\\sklearn\\utils\\deprecation.py:125: FutureWarning: You are accessing a training score ('split0_train_score'), which will not be available by default any more in 0.21. If you need training scores, please set return_train_score=True\n",
      "  warnings.warn(*warn_args, **warn_kwargs)\n",
      "C:\\anaconda3\\lib\\site-packages\\sklearn\\utils\\deprecation.py:125: FutureWarning: You are accessing a training score ('split1_train_score'), which will not be available by default any more in 0.21. If you need training scores, please set return_train_score=True\n",
      "  warnings.warn(*warn_args, **warn_kwargs)\n",
      "C:\\anaconda3\\lib\\site-packages\\sklearn\\utils\\deprecation.py:125: FutureWarning: You are accessing a training score ('split2_train_score'), which will not be available by default any more in 0.21. If you need training scores, please set return_train_score=True\n",
      "  warnings.warn(*warn_args, **warn_kwargs)\n",
      "C:\\anaconda3\\lib\\site-packages\\sklearn\\utils\\deprecation.py:125: FutureWarning: You are accessing a training score ('split3_train_score'), which will not be available by default any more in 0.21. If you need training scores, please set return_train_score=True\n",
      "  warnings.warn(*warn_args, **warn_kwargs)\n",
      "C:\\anaconda3\\lib\\site-packages\\sklearn\\utils\\deprecation.py:125: FutureWarning: You are accessing a training score ('split4_train_score'), which will not be available by default any more in 0.21. If you need training scores, please set return_train_score=True\n",
      "  warnings.warn(*warn_args, **warn_kwargs)\n",
      "C:\\anaconda3\\lib\\site-packages\\sklearn\\utils\\deprecation.py:125: FutureWarning: You are accessing a training score ('std_train_score'), which will not be available by default any more in 0.21. If you need training scores, please set return_train_score=True\n",
      "  warnings.warn(*warn_args, **warn_kwargs)\n"
     ]
    },
    {
     "data": {
      "text/plain": [
       "{'mean_fit_time': array([0.0039927 , 0.00199919, 0.00099316, 0.00360131, 0.00400543,\n",
       "        0.00299029, 0.00299935, 0.00199842, 0.0039885 , 0.00299978]),\n",
       " 'mean_score_time': array([0.00700173, 0.00499763, 0.00600238, 0.00519443, 0.00499878,\n",
       "        0.00500326, 0.0049973 , 0.00600195, 0.00600171, 0.0059907 ]),\n",
       " 'mean_test_score': array([0.72605364, 0.71455939, 0.7183908 , 0.69348659, 0.69348659,\n",
       "        0.69157088, 0.68199234, 0.6743295 , 0.64176245, 0.61302682]),\n",
       " 'mean_train_score': array([0.81548789, 0.75368803, 0.72646631, 0.70973479, 0.69296756,\n",
       "        0.69150703, 0.68338633, 0.67669254, 0.65895009, 0.63027054]),\n",
       " 'param_n_neighbors': masked_array(data=[3, 6, 9, 12, 15, 18, 21, 24, 27, 30],\n",
       "              mask=[False, False, False, False, False, False, False, False,\n",
       "                    False, False],\n",
       "        fill_value='?',\n",
       "             dtype=object),\n",
       " 'params': [{'n_neighbors': 3},\n",
       "  {'n_neighbors': 6},\n",
       "  {'n_neighbors': 9},\n",
       "  {'n_neighbors': 12},\n",
       "  {'n_neighbors': 15},\n",
       "  {'n_neighbors': 18},\n",
       "  {'n_neighbors': 21},\n",
       "  {'n_neighbors': 24},\n",
       "  {'n_neighbors': 27},\n",
       "  {'n_neighbors': 30}],\n",
       " 'rank_test_score': array([ 1,  3,  2,  4,  4,  6,  7,  8,  9, 10]),\n",
       " 'split0_test_score': array([0.75675676, 0.73873874, 0.73873874, 0.69369369, 0.7027027 ,\n",
       "        0.7027027 , 0.72072072, 0.7027027 , 0.64864865, 0.64864865]),\n",
       " 'split0_train_score': array([0.8053528 , 0.73965937, 0.72019465, 0.70559611, 0.68856448,\n",
       "        0.68856448, 0.67639903, 0.67153285, 0.64233577, 0.64963504]),\n",
       " 'split1_test_score': array([0.75229358, 0.73394495, 0.73394495, 0.71559633, 0.70642202,\n",
       "        0.71559633, 0.71559633, 0.70642202, 0.68807339, 0.64220183]),\n",
       " 'split1_train_score': array([0.80145278, 0.74576271, 0.72154964, 0.7094431 , 0.69249395,\n",
       "        0.68765133, 0.68280872, 0.67554479, 0.65375303, 0.61016949]),\n",
       " 'split2_test_score': array([0.75961538, 0.74038462, 0.74038462, 0.73076923, 0.73076923,\n",
       "        0.72115385, 0.71153846, 0.71153846, 0.71153846, 0.64423077]),\n",
       " 'split2_train_score': array([0.81578947, 0.74401914, 0.72488038, 0.70813397, 0.68660287,\n",
       "        0.67942584, 0.68421053, 0.67942584, 0.68899522, 0.62200957]),\n",
       " 'split3_test_score': array([0.68, 0.68, 0.69, 0.64, 0.64, 0.64, 0.59, 0.59, 0.53, 0.52]),\n",
       " 'split3_train_score': array([0.82701422, 0.76777251, 0.72985782, 0.70616114, 0.7014218 ,\n",
       "        0.7014218 , 0.68483412, 0.67535545, 0.6492891 , 0.64218009]),\n",
       " 'split4_test_score': array([0.67346939, 0.67346939, 0.68367347, 0.68367347, 0.68367347,\n",
       "        0.67346939, 0.66326531, 0.65306122, 0.62244898, 0.60204082]),\n",
       " 'split4_train_score': array([0.82783019, 0.77122642, 0.73584906, 0.71933962, 0.69575472,\n",
       "        0.7004717 , 0.68867925, 0.68160377, 0.66037736, 0.62735849]),\n",
       " 'std_fit_time': array([0.00373832, 0.00244849, 0.00198631, 0.00196314, 0.00200279,\n",
       "        0.00244161, 0.00244896, 0.00244756, 0.00199429, 0.00244931]),\n",
       " 'std_score_time': array([2.44108396e-03, 9.95665217e-07, 1.99644080e-03, 3.94834067e-04,\n",
       "        2.64031757e-06, 1.02696157e-05, 6.53005812e-06, 2.00951138e-03,\n",
       "        1.99749401e-03, 2.00302105e-03]),\n",
       " 'std_test_score': array([0.03865325, 0.02968921, 0.0248119 , 0.03074324, 0.0299343 ,\n",
       "        0.02987055, 0.04914967, 0.04592777, 0.06237662, 0.04818782]),\n",
       " 'std_train_score': array([0.0108165 , 0.01310778, 0.00575432, 0.004996  , 0.00527945,\n",
       "        0.00834444, 0.00399866, 0.00350196, 0.0161315 , 0.01412513])}"
      ]
     },
     "execution_count": 129,
     "metadata": {},
     "output_type": "execute_result"
    }
   ],
   "source": [
    "clf_gs.cv_results_"
   ]
  },
  {
   "cell_type": "code",
   "execution_count": 130,
   "metadata": {},
   "outputs": [
    {
     "data": {
      "text/plain": [
       "KNeighborsClassifier(algorithm='auto', leaf_size=30, metric='minkowski',\n",
       "           metric_params=None, n_jobs=None, n_neighbors=3, p=2,\n",
       "           weights='uniform')"
      ]
     },
     "execution_count": 130,
     "metadata": {},
     "output_type": "execute_result"
    }
   ],
   "source": [
    "# Лучшая модель\n",
    "clf_gs.best_estimator_"
   ]
  },
  {
   "cell_type": "code",
   "execution_count": 131,
   "metadata": {},
   "outputs": [
    {
     "data": {
      "text/plain": [
       "0.7260536398467433"
      ]
     },
     "execution_count": 131,
     "metadata": {},
     "output_type": "execute_result"
    }
   ],
   "source": [
    "# Лучшее значение метрики\n",
    "clf_gs.best_score_"
   ]
  },
  {
   "cell_type": "code",
   "execution_count": 132,
   "metadata": {},
   "outputs": [
    {
     "data": {
      "text/plain": [
       "{'n_neighbors': 3}"
      ]
     },
     "execution_count": 132,
     "metadata": {},
     "output_type": "execute_result"
    }
   ],
   "source": [
    "# Лучшее значение параметров\n",
    "clf_gs.best_params_"
   ]
  },
  {
   "cell_type": "code",
   "execution_count": 133,
   "metadata": {},
   "outputs": [
    {
     "name": "stderr",
     "output_type": "stream",
     "text": [
      "C:\\anaconda3\\lib\\site-packages\\sklearn\\utils\\deprecation.py:125: FutureWarning: You are accessing a training score ('mean_train_score'), which will not be available by default any more in 0.21. If you need training scores, please set return_train_score=True\n",
      "  warnings.warn(*warn_args, **warn_kwargs)\n"
     ]
    },
    {
     "data": {
      "text/plain": [
       "[<matplotlib.lines.Line2D at 0x28918855860>]"
      ]
     },
     "execution_count": 133,
     "metadata": {},
     "output_type": "execute_result"
    },
    {
     "data": {
      "image/png": "[encoded data removed]",
      "text/plain": [
       "<Figure size 432x288 with 1 Axes>"
      ]
     },
     "metadata": {},
     "output_type": "display_data"
    }
   ],
   "source": [
    "# Изменение качества на обучающей выборке\n",
    "plt.plot(n_range, clf_gs.cv_results_['mean_train_score'])"
   ]
  },
  {
   "cell_type": "code",
   "execution_count": 134,
   "metadata": {},
   "outputs": [
    {
     "data": {
      "text/plain": [
       "[<matplotlib.lines.Line2D at 0x289143f4b70>]"
      ]
     },
     "execution_count": 134,
     "metadata": {},
     "output_type": "execute_result"
    },
    {
     "data": {
      "image/png": "[encoded data removed]",
      "text/plain": [
       "<Figure size 432x288 with 1 Axes>"
      ]
     },
     "metadata": {},
     "output_type": "display_data"
    }
   ],
   "source": [
    "# Изменение качества на тестовой выборке\n",
    "plt.plot(n_range, clf_gs.cv_results_['mean_test_score'])"
   ]
  },
  {
   "cell_type": "code",
   "execution_count": null,
   "metadata": {},
   "outputs": [],
   "source": []
  },
  {
   "cell_type": "code",
   "execution_count": 1,
   "metadata": {},
   "outputs": [],
   "source": [
    "#7)Повторите пункт 4 для найденного оптимального значения гиперпараметра K. \n",
    "#Сравните качество полученной модели с качеством модели, полученной в пункте 4."
   ]
  },
  {
   "cell_type": "code",
   "execution_count": 141,
   "metadata": {},
   "outputs": [
    {
     "data": {
      "text/plain": [
       "array([13, 12,  2,  2, 10,  3, 10,  2,  2, 11,  3,  8,  8,  6, 12,  6,  6,\n",
       "        5, 13,  7,  0, 14,  4, 11,  3,  8,  4, 13, 12, 13, 14,  4,  1,  9,\n",
       "        4,  7,  4, 13,  3,  9,  1,  9,  0,  3,  5,  1, 13,  7,  3,  5, 12,\n",
       "       12, 11,  7,  8,  9, 14, 12,  9,  0,  4, 11, 11,  0, 13, 13,  9,  7,\n",
       "        3, 10, 12, 10,  4, 14, 12,  8,  2,  0,  9,  4, 11,  2,  1,  1, 13,\n",
       "        8, 10,  1, 10, 12, 11,  0,  4,  2,  4,  5, 13, 14,  1, 14,  9,  2,\n",
       "       10,  2,  6, 12,  2,  5,  6,  8,  5,  8, 13,  1,  0,  0,  1,  5,  6,\n",
       "        0,  3,  2,  7,  3,  0,  2, 14,  8,  1,  1,  6], dtype=int64)"
      ]
     },
     "execution_count": 141,
     "metadata": {},
     "output_type": "execute_result"
    }
   ],
   "source": [
    "# 3 ближайших соседа\n",
    "cl_best = KNeighborsClassifier(n_neighbors=3)\n",
    "cl_best.fit(x_train, y_train)\n",
    "target_best = cl_best.predict(x_test)\n",
    "target_best"
   ]
  },
  {
   "cell_type": "code",
   "execution_count": 142,
   "metadata": {},
   "outputs": [
    {
     "data": {
      "text/plain": [
       "0.7175572519083969"
      ]
     },
     "execution_count": 142,
     "metadata": {},
     "output_type": "execute_result"
    }
   ],
   "source": [
    "# 3 ближайших соседа\n",
    "accuracy_score(y_test, target_best)"
   ]
  },
  {
   "cell_type": "code",
   "execution_count": 137,
   "metadata": {},
   "outputs": [],
   "source": [
    "# Конвертация целевого признака в бинарный\n",
    "def convert_target_to_binary(array:np.ndarray, target:int) -> np.ndarray:\n",
    "    # Если целевой признак совпадает с указанным, то 1 иначе 0\n",
    "    res = [1 if x==target else 0 for x in array]\n",
    "    return res"
   ]
  },
  {
   "cell_type": "code",
   "execution_count": 143,
   "metadata": {},
   "outputs": [
    {
     "data": {
      "text/plain": [
       "[(13, 0),\n",
       " (13, 0),\n",
       " (2, 0),\n",
       " (2, 0),\n",
       " (12, 0),\n",
       " (3, 0),\n",
       " (10, 0),\n",
       " (3, 0),\n",
       " (3, 0),\n",
       " (11, 0),\n",
       " (3, 0),\n",
       " (8, 0),\n",
       " (10, 0),\n",
       " (6, 1),\n",
       " (12, 0),\n",
       " (7, 0),\n",
       " (8, 0),\n",
       " (6, 1),\n",
       " (12, 0),\n",
       " (7, 0),\n",
       " (0, 0),\n",
       " (14, 0),\n",
       " (2, 0),\n",
       " (11, 0),\n",
       " (3, 0),\n",
       " (8, 0),\n",
       " (4, 0),\n",
       " (13, 0),\n",
       " (12, 0),\n",
       " (14, 0),\n",
       " (14, 0),\n",
       " (4, 0),\n",
       " (1, 0),\n",
       " (9, 0),\n",
       " (4, 0),\n",
       " (7, 0),\n",
       " (4, 0),\n",
       " (13, 0),\n",
       " (6, 1),\n",
       " (9, 0),\n",
       " (1, 0),\n",
       " (9, 0),\n",
       " (2, 0),\n",
       " (3, 0),\n",
       " (6, 1),\n",
       " (1, 0),\n",
       " (13, 0),\n",
       " (7, 0),\n",
       " (3, 0),\n",
       " (5, 0),\n",
       " (12, 0),\n",
       " (12, 0),\n",
       " (11, 0),\n",
       " (7, 0),\n",
       " (8, 0),\n",
       " (9, 0),\n",
       " (14, 0),\n",
       " (12, 0),\n",
       " (9, 0),\n",
       " (0, 0),\n",
       " (5, 0),\n",
       " (11, 0),\n",
       " (10, 0),\n",
       " (1, 0),\n",
       " (13, 0),\n",
       " (13, 0),\n",
       " (9, 0),\n",
       " (5, 0),\n",
       " (3, 0),\n",
       " (10, 0),\n",
       " (12, 0),\n",
       " (10, 0),\n",
       " (8, 0),\n",
       " (14, 0),\n",
       " (12, 0),\n",
       " (8, 0),\n",
       " (3, 0),\n",
       " (0, 0),\n",
       " (9, 0),\n",
       " (7, 0),\n",
       " (13, 0),\n",
       " (2, 0),\n",
       " (1, 0),\n",
       " (1, 0),\n",
       " (13, 0),\n",
       " (8, 0),\n",
       " (11, 0),\n",
       " (1, 0),\n",
       " (10, 0),\n",
       " (11, 0),\n",
       " (11, 0),\n",
       " (3, 0),\n",
       " (6, 1),\n",
       " (2, 0),\n",
       " (5, 0),\n",
       " (6, 1),\n",
       " (13, 0),\n",
       " (14, 0),\n",
       " (1, 0),\n",
       " (13, 0),\n",
       " (9, 0),\n",
       " (2, 0),\n",
       " (10, 0),\n",
       " (2, 0),\n",
       " (6, 1),\n",
       " (13, 0),\n",
       " (2, 0),\n",
       " (6, 1),\n",
       " (6, 1),\n",
       " (8, 0),\n",
       " (5, 0),\n",
       " (10, 0),\n",
       " (13, 0),\n",
       " (1, 0),\n",
       " (1, 0),\n",
       " (2, 0),\n",
       " (1, 0),\n",
       " (5, 0),\n",
       " (6, 1),\n",
       " (0, 0),\n",
       " (3, 0),\n",
       " (2, 0),\n",
       " (7, 0),\n",
       " (4, 0),\n",
       " (0, 0),\n",
       " (2, 0),\n",
       " (13, 0),\n",
       " (8, 0),\n",
       " (0, 0),\n",
       " (1, 0),\n",
       " (6, 1)]"
      ]
     },
     "execution_count": 143,
     "metadata": {},
     "output_type": "execute_result"
    }
   ],
   "source": [
    "bin_y_best = convert_target_to_binary(y_test, 6)\n",
    "list(zip(y_test, bin_y_best))"
   ]
  },
  {
   "cell_type": "code",
   "execution_count": 145,
   "metadata": {},
   "outputs": [],
   "source": [
    "# Конвертация предсказанных признаков\n",
    "bin_target_best = convert_target_to_binary(target1_1, 6)"
   ]
  },
  {
   "cell_type": "code",
   "execution_count": 146,
   "metadata": {},
   "outputs": [
    {
     "data": {
      "text/plain": [
       "0.7189393939393939"
      ]
     },
     "execution_count": 146,
     "metadata": {},
     "output_type": "execute_result"
    }
   ],
   "source": [
    "#3 neighbours\n",
    "balanced_accuracy_score(bin_y_best, bin_target_best)"
   ]
  },
  {
   "cell_type": "code",
   "execution_count": 147,
   "metadata": {},
   "outputs": [
    {
     "data": {
      "text/plain": [
       "(0.7142857142857143, 0.45454545454545453)"
      ]
     },
     "execution_count": 147,
     "metadata": {},
     "output_type": "execute_result"
    }
   ],
   "source": [
    "# Для 3 ближайших соседей\n",
    "precision_score(bin_y_test, bin_target_best), recall_score(bin_y_test, bin_target_best)"
   ]
  },
  {
   "cell_type": "code",
   "execution_count": null,
   "metadata": {},
   "outputs": [],
   "source": [
    "#8) Постройте кривые обучения и валидации."
   ]
  },
  {
   "cell_type": "code",
   "execution_count": 148,
   "metadata": {},
   "outputs": [],
   "source": [
    "def plot_learning_curve(estimator, title, X, y, ylim=None, cv=None,\n",
    "                        n_jobs=None, train_sizes=np.linspace(.1, 1.0, 5)):\n",
    "    \"\"\"\n",
    "    Generate a simple plot of the test and training learning curve.\n",
    "\n",
    "    Parameters\n",
    "    ----------\n",
    "    estimator : object type that implements the \"fit\" and \"predict\" methods\n",
    "        An object of that type which is cloned for each validation.\n",
    "\n",
    "    title : string\n",
    "        Title for the chart.\n",
    "\n",
    "    X : array-like, shape (n_samples, n_features)\n",
    "        Training vector, where n_samples is the number of samples and\n",
    "        n_features is the number of features.\n",
    "\n",
    "    y : array-like, shape (n_samples) or (n_samples, n_features), optional\n",
    "        Target relative to X for classification or regression;\n",
    "        None for unsupervised learning.\n",
    "\n",
    "    ylim : tuple, shape (ymin, ymax), optional\n",
    "        Defines minimum and maximum yvalues plotted.\n",
    "\n",
    "    cv : int, cross-validation generator or an iterable, optional\n",
    "        Determines the cross-validation splitting strategy.\n",
    "        Possible inputs for cv are:\n",
    "          - None, to use the default 3-fold cross-validation,\n",
    "          - integer, to specify the number of folds.\n",
    "          - :term:`CV splitter`,\n",
    "          - An iterable yielding (train, test) splits as arrays of indices.\n",
    "\n",
    "        For integer/None inputs, if ``y`` is binary or multiclass,\n",
    "        :class:`StratifiedKFold` used. If the estimator is not a classifier\n",
    "        or if ``y`` is neither binary nor multiclass, :class:`KFold` is used.\n",
    "\n",
    "        Refer :ref:`User Guide <cross_validation>` for the various\n",
    "        cross-validators that can be used here.\n",
    "\n",
    "    n_jobs : int or None, optional (default=None)\n",
    "        Number of jobs to run in parallel.\n",
    "        ``None`` means 1 unless in a :obj:`joblib.parallel_backend` context.\n",
    "        ``-1`` means using all processors. See :term:`Glossary <n_jobs>`\n",
    "        for more details.\n",
    "\n",
    "    train_sizes : array-like, shape (n_ticks,), dtype float or int\n",
    "        Relative or absolute numbers of training examples that will be used to\n",
    "        generate the learning curve. If the dtype is float, it is regarded as a\n",
    "        fraction of the maximum size of the training set (that is determined\n",
    "        by the selected validation method), i.e. it has to be within (0, 1].\n",
    "        Otherwise it is interpreted as absolute sizes of the training sets.\n",
    "        Note that for classification the number of samples usually have to\n",
    "        be big enough to contain at least one sample from each class.\n",
    "        (default: np.linspace(0.1, 1.0, 5))\n",
    "    \"\"\"\n",
    "    plt.figure()\n",
    "    plt.title(title)\n",
    "    if ylim is not None:\n",
    "        plt.ylim(*ylim)\n",
    "    plt.xlabel(\"Training examples\")\n",
    "    plt.ylabel(\"Score\")\n",
    "    train_sizes, train_scores, test_scores = learning_curve(\n",
    "        estimator, X, y, cv=cv, n_jobs=n_jobs, train_sizes=train_sizes)\n",
    "    train_scores_mean = np.mean(train_scores, axis=1)\n",
    "    train_scores_std = np.std(train_scores, axis=1)\n",
    "    test_scores_mean = np.mean(test_scores, axis=1)\n",
    "    test_scores_std = np.std(test_scores, axis=1)\n",
    "    plt.grid()\n",
    "\n",
    "    plt.fill_between(train_sizes, train_scores_mean - train_scores_std,\n",
    "                     train_scores_mean + train_scores_std, alpha=0.1,\n",
    "                     color=\"r\")\n",
    "    plt.fill_between(train_sizes, test_scores_mean - test_scores_std,\n",
    "                     test_scores_mean + test_scores_std, alpha=0.1, color=\"g\")\n",
    "    plt.plot(train_sizes, train_scores_mean, 'o-', color=\"r\",\n",
    "             label=\"Training score\")\n",
    "    plt.plot(train_sizes, test_scores_mean, 'o-', color=\"g\",\n",
    "             label=\"Cross-validation score\")\n",
    "\n",
    "    plt.legend(loc=\"best\")\n",
    "    return plt"
   ]
  },
  {
   "cell_type": "code",
   "execution_count": 149,
   "metadata": {},
   "outputs": [
    {
     "data": {
      "text/plain": [
       "<module 'matplotlib.pyplot' from 'C:\\\\anaconda3\\\\lib\\\\site-packages\\\\matplotlib\\\\pyplot.py'>"
      ]
     },
     "execution_count": 149,
     "metadata": {},
     "output_type": "execute_result"
    },
    {
     "data": {
      "image/png": "[encoded data removed]",
      "text/plain": [
       "<Figure size 432x288 with 1 Axes>"
      ]
     },
     "metadata": {},
     "output_type": "display_data"
    }
   ],
   "source": [
    "plot_learning_curve(KNeighborsClassifier(n_neighbors=5), 'n_neighbors=3', \n",
    "                    x_train, y_train, cv=20)"
   ]
  },
  {
   "cell_type": "code",
   "execution_count": 150,
   "metadata": {},
   "outputs": [],
   "source": [
    "def plot_validation_curve(estimator, title, X, y, \n",
    "                          param_name, param_range, cv, \n",
    "                          scoring=\"accuracy\"):\n",
    "                                                   \n",
    "    train_scores, test_scores = validation_curve(\n",
    "        estimator, X, y, param_name=param_name, param_range=param_range,\n",
    "        cv=cv, scoring=scoring, n_jobs=1)\n",
    "    train_scores_mean = np.mean(train_scores, axis=1)\n",
    "    train_scores_std = np.std(train_scores, axis=1)\n",
    "    test_scores_mean = np.mean(test_scores, axis=1)\n",
    "    test_scores_std = np.std(test_scores, axis=1)\n",
    "\n",
    "    plt.title(title)\n",
    "    plt.xlabel(param_name)\n",
    "    plt.ylabel(\"Score\")\n",
    "    plt.ylim(0.0, 1.1)\n",
    "    lw = 2\n",
    "    plt.plot(param_range, train_scores_mean, label=\"Training score\",\n",
    "                 color=\"darkorange\", lw=lw)\n",
    "    plt.fill_between(param_range, train_scores_mean - train_scores_std,\n",
    "                     train_scores_mean + train_scores_std, alpha=0.2,\n",
    "                     color=\"darkorange\", lw=lw)\n",
    "    plt.plot(param_range, test_scores_mean, label=\"Cross-validation score\",\n",
    "                 color=\"navy\", lw=lw)\n",
    "    plt.fill_between(param_range, test_scores_mean - test_scores_std,\n",
    "                     test_scores_mean + test_scores_std, alpha=0.2,\n",
    "                     color=\"navy\", lw=lw)\n",
    "    plt.legend(loc=\"best\")\n",
    "    return plt"
   ]
  },
  {
   "cell_type": "code",
   "execution_count": 155,
   "metadata": {},
   "outputs": [
    {
     "data": {
      "text/plain": [
       "<module 'matplotlib.pyplot' from 'C:\\\\anaconda3\\\\lib\\\\site-packages\\\\matplotlib\\\\pyplot.py'>"
      ]
     },
     "execution_count": 155,
     "metadata": {},
     "output_type": "execute_result"
    },
    {
     "data": {
      "image/png": "[encoded data removed]",
      "text/plain": [
       "<Figure size 432x288 with 1 Axes>"
      ]
     },
     "metadata": {},
     "output_type": "display_data"
    }
   ],
   "source": [
    "plot_validation_curve(KNeighborsClassifier(), 'knn', \n",
    "                      x_train, y_train, \n",
    "                      param_name='n_neighbors', param_range=n_range, \n",
    "                      cv=StratifiedKFold(n_splits=5), scoring=\"accuracy\")"
   ]
  },
  {
   "cell_type": "code",
   "execution_count": null,
   "metadata": {},
   "outputs": [],
   "source": []
  }
 ],
 "metadata": {
  "kernelspec": {
   "display_name": "Python 3",
   "language": "python",
   "name": "python3"
  },
  "language_info": {
   "codemirror_mode": {
    "name": "ipython",
    "version": 3
   },
   "file_extension": ".py",
   "mimetype": "text/x-python",
   "name": "python",
   "nbconvert_exporter": "python",
   "pygments_lexer": "ipython3",
   "version": "3.6.4"
  }
 },
 "nbformat": 4,
 "nbformat_minor": 2
}
