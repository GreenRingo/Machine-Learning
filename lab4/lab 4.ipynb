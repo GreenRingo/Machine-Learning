{
 "cells": [
  {
   "cell_type": "code",
   "execution_count": 4,
   "metadata": {},
   "outputs": [],
   "source": [
    "import numpy as np\n",
    "import pandas as pd\n",
    "import seaborn as sns\n",
    "import matplotlib.pyplot as plt\n",
    "from sklearn.model_selection import train_test_split\n",
    "from sklearn.neighbors import KNeighborsClassifier\n",
    "from sklearn.metrics import accuracy_score, balanced_accuracy_score\n",
    "from sklearn.metrics import precision_score, recall_score, f1_score, classification_report\n",
    "from sklearn.model_selection import cross_val_score, cross_validate\n",
    "from sklearn.model_selection import GridSearchCV\n",
    "from sklearn.model_selection import learning_curve, validation_curve\n",
    "from sklearn.model_selection import KFold, RepeatedKFold, ShuffleSplit, StratifiedKFold\n",
    "%matplotlib inline \n",
    "sns.set(style=\"ticks\")"
   ]
  },
  {
   "cell_type": "code",
   "execution_count": 5,
   "metadata": {},
   "outputs": [
    {
     "data": {
      "text/plain": [
       "(653, 4)"
      ]
     },
     "execution_count": 5,
     "metadata": {},
     "output_type": "execute_result"
    }
   ],
   "source": [
    "#ph-recognition\n",
    "#Try to predict pH value based on RGB color \n",
    "data = pd.read_csv('ph-data.csv', sep=\",\")\n",
    "data.shape"
   ]
  },
  {
   "cell_type": "code",
   "execution_count": 6,
   "metadata": {},
   "outputs": [
    {
     "data": {
      "text/html": [
       "<div>\n",
       "<style scoped>\n",
       "    .dataframe tbody tr th:only-of-type {\n",
       "        vertical-align: middle;\n",
       "    }\n",
       "\n",
       "    .dataframe tbody tr th {\n",
       "        vertical-align: top;\n",
       "    }\n",
       "\n",
       "    .dataframe thead th {\n",
       "        text-align: right;\n",
       "    }\n",
       "</style>\n",
       "<table border=\"1\" class=\"dataframe\">\n",
       "  <thead>\n",
       "    <tr style=\"text-align: right;\">\n",
       "      <th></th>\n",
       "      <th>blue</th>\n",
       "      <th>green</th>\n",
       "      <th>red</th>\n",
       "      <th>label</th>\n",
       "    </tr>\n",
       "  </thead>\n",
       "  <tbody>\n",
       "    <tr>\n",
       "      <th>0</th>\n",
       "      <td>36</td>\n",
       "      <td>27</td>\n",
       "      <td>231</td>\n",
       "      <td>0</td>\n",
       "    </tr>\n",
       "    <tr>\n",
       "      <th>1</th>\n",
       "      <td>36</td>\n",
       "      <td>84</td>\n",
       "      <td>250</td>\n",
       "      <td>1</td>\n",
       "    </tr>\n",
       "    <tr>\n",
       "      <th>2</th>\n",
       "      <td>37</td>\n",
       "      <td>164</td>\n",
       "      <td>255</td>\n",
       "      <td>2</td>\n",
       "    </tr>\n",
       "    <tr>\n",
       "      <th>3</th>\n",
       "      <td>22</td>\n",
       "      <td>205</td>\n",
       "      <td>255</td>\n",
       "      <td>3</td>\n",
       "    </tr>\n",
       "    <tr>\n",
       "      <th>4</th>\n",
       "      <td>38</td>\n",
       "      <td>223</td>\n",
       "      <td>221</td>\n",
       "      <td>4</td>\n",
       "    </tr>\n",
       "  </tbody>\n",
       "</table>\n",
       "</div>"
      ],
      "text/plain": [
       "   blue  green  red  label\n",
       "0    36     27  231      0\n",
       "1    36     84  250      1\n",
       "2    37    164  255      2\n",
       "3    22    205  255      3\n",
       "4    38    223  221      4"
      ]
     },
     "execution_count": 6,
     "metadata": {},
     "output_type": "execute_result"
    }
   ],
   "source": [
    "data.head()"
   ]
  },
  {
   "cell_type": "code",
   "execution_count": 7,
   "metadata": {},
   "outputs": [
    {
     "data": {
      "text/html": [
       "<div>\n",
       "<style scoped>\n",
       "    .dataframe tbody tr th:only-of-type {\n",
       "        vertical-align: middle;\n",
       "    }\n",
       "\n",
       "    .dataframe tbody tr th {\n",
       "        vertical-align: top;\n",
       "    }\n",
       "\n",
       "    .dataframe thead th {\n",
       "        text-align: right;\n",
       "    }\n",
       "</style>\n",
       "<table border=\"1\" class=\"dataframe\">\n",
       "  <thead>\n",
       "    <tr style=\"text-align: right;\">\n",
       "      <th></th>\n",
       "      <th>blue</th>\n",
       "      <th>green</th>\n",
       "      <th>red</th>\n",
       "      <th>label</th>\n",
       "    </tr>\n",
       "  </thead>\n",
       "  <tbody>\n",
       "    <tr>\n",
       "      <th>648</th>\n",
       "      <td>201</td>\n",
       "      <td>123</td>\n",
       "      <td>0</td>\n",
       "      <td>10</td>\n",
       "    </tr>\n",
       "    <tr>\n",
       "      <th>649</th>\n",
       "      <td>203</td>\n",
       "      <td>51</td>\n",
       "      <td>46</td>\n",
       "      <td>11</td>\n",
       "    </tr>\n",
       "    <tr>\n",
       "      <th>650</th>\n",
       "      <td>169</td>\n",
       "      <td>62</td>\n",
       "      <td>48</td>\n",
       "      <td>12</td>\n",
       "    </tr>\n",
       "    <tr>\n",
       "      <th>651</th>\n",
       "      <td>173</td>\n",
       "      <td>37</td>\n",
       "      <td>79</td>\n",
       "      <td>13</td>\n",
       "    </tr>\n",
       "    <tr>\n",
       "      <th>652</th>\n",
       "      <td>131</td>\n",
       "      <td>2</td>\n",
       "      <td>77</td>\n",
       "      <td>14</td>\n",
       "    </tr>\n",
       "  </tbody>\n",
       "</table>\n",
       "</div>"
      ],
      "text/plain": [
       "     blue  green  red  label\n",
       "648   201    123    0     10\n",
       "649   203     51   46     11\n",
       "650   169     62   48     12\n",
       "651   173     37   79     13\n",
       "652   131      2   77     14"
      ]
     },
     "execution_count": 7,
     "metadata": {},
     "output_type": "execute_result"
    }
   ],
   "source": [
    "data.tail()"
   ]
  },
  {
   "cell_type": "code",
   "execution_count": 8,
   "metadata": {},
   "outputs": [
    {
     "data": {
      "text/plain": [
       "blue     int64\n",
       "green    int64\n",
       "red      int64\n",
       "label    int64\n",
       "dtype: object"
      ]
     },
     "execution_count": 8,
     "metadata": {},
     "output_type": "execute_result"
    }
   ],
   "source": [
    "data.dtypes"
   ]
  },
  {
   "cell_type": "code",
   "execution_count": 9,
   "metadata": {},
   "outputs": [
    {
     "data": {
      "text/plain": [
       "blue     0\n",
       "green    0\n",
       "red      0\n",
       "label    0\n",
       "dtype: int64"
      ]
     },
     "execution_count": 9,
     "metadata": {},
     "output_type": "execute_result"
    }
   ],
   "source": [
    "# проверим есть ли пропущенные значения\n",
    "data.isnull().sum()"
   ]
  },
  {
   "cell_type": "code",
   "execution_count": null,
   "metadata": {},
   "outputs": [],
   "source": []
  },
  {
   "cell_type": "code",
   "execution_count": 10,
   "metadata": {},
   "outputs": [],
   "source": [
    "#3) С использованием метода train_test_split разделите выборку на обучающую и тестовую"
   ]
  },
  {
   "cell_type": "code",
   "execution_count": 11,
   "metadata": {},
   "outputs": [],
   "source": [
    "x_train, x_test, y_train, y_test = train_test_split(data.loc[:, data.columns != 'label'], \n",
    "                                                   data['label'], \n",
    "                                                   test_size = 0.2, \n",
    "                                                   random_state = 1)"
   ]
  },
  {
   "cell_type": "code",
   "execution_count": 12,
   "metadata": {},
   "outputs": [
    {
     "data": {
      "text/plain": [
       "((522, 3), (522,))"
      ]
     },
     "execution_count": 12,
     "metadata": {},
     "output_type": "execute_result"
    }
   ],
   "source": [
    "# Размер обучающей выборки\n",
    "x_train.shape, y_train.shape"
   ]
  },
  {
   "cell_type": "code",
   "execution_count": 13,
   "metadata": {},
   "outputs": [
    {
     "data": {
      "text/plain": [
       "((131, 3), (131,))"
      ]
     },
     "execution_count": 13,
     "metadata": {},
     "output_type": "execute_result"
    }
   ],
   "source": [
    "# Размер тестовой выборки\n",
    "x_test.shape, y_test.shape"
   ]
  },
  {
   "cell_type": "code",
   "execution_count": null,
   "metadata": {},
   "outputs": [],
   "source": []
  },
  {
   "cell_type": "code",
   "execution_count": 14,
   "metadata": {},
   "outputs": [
    {
     "data": {
      "text/plain": [
       "array([ 6,  9,  1, 13, 11,  7,  6,  5,  0,  9,  5,  1,  6,  9,  5,  2,  7,\n",
       "       11,  9, 11, 13,  2,  6,  5,  3,  5,  8, 12,  2,  5, 12,  9,  1,  2,\n",
       "        3,  5, 13, 10,  1,  4, 10,  3, 11,  4,  8,  6,  0, 13, 14, 14,  9,\n",
       "        0, 14,  4,  1,  0,  6, 11,  3, 10,  4, 10,  3, 11,  2,  9, 11,  3,\n",
       "        4,  4,  8,  0,  3,  7, 13,  2,  2,  5,  0,  2, 14, 11,  2,  7,  1,\n",
       "       13,  2,  2, 10,  2, 14,  5, 11,  3, 13,  6, 14, 14,  4,  7, 10,  5,\n",
       "        0,  8,  5,  1,  0,  1, 13,  2, 14,  7,  4, 10, 14,  9,  6,  4,  1,\n",
       "       12,  0,  5, 10,  5,  2, 12,  0,  1,  0, 10,  8], dtype=int64)"
      ]
     },
     "execution_count": 14,
     "metadata": {},
     "output_type": "execute_result"
    }
   ],
   "source": [
    "#4) Обучите модель ближайших соседей для произвольно заданного гиперпараметра K. \n",
    "#Оцените качество модели с помощью трех подходящих для задачи метрик.\n",
    "\n",
    "# 3 ближайших соседа\n",
    "cl1_1 = KNeighborsClassifier(n_neighbors=3)\n",
    "cl1_1.fit(x_train, y_train)\n",
    "target1_1 = cl1_1.predict(x_test)\n",
    "target1_1"
   ]
  },
  {
   "cell_type": "code",
   "execution_count": 15,
   "metadata": {},
   "outputs": [
    {
     "data": {
      "text/plain": [
       "array([ 6, 10,  1, 14, 11,  7,  6,  5,  0,  9,  5,  1,  6,  9,  5,  2,  7,\n",
       "       11,  9, 11, 13,  2,  6,  5,  3,  5,  8, 12,  2,  5, 12,  9,  1,  2,\n",
       "        2,  5, 13, 11,  1,  4, 10,  3, 11,  4,  8,  6,  0, 13, 13, 14,  9,\n",
       "        0, 14,  4,  1,  0,  6, 11,  3, 10,  4, 10,  2, 13,  2,  9, 11,  3,\n",
       "        4,  4,  8,  0,  3,  7, 14,  2,  2,  5,  0,  2, 14, 11,  2,  7,  1,\n",
       "       13,  2,  1, 10,  2, 14,  5, 11,  3, 13,  6, 14, 14,  4,  7, 10,  4,\n",
       "        0,  8,  5,  1,  0,  1, 14,  2, 14,  7,  4, 10, 14,  9,  6,  5,  1,\n",
       "       12,  0,  5, 10,  5,  2, 12,  0,  1,  0, 10,  8], dtype=int64)"
      ]
     },
     "execution_count": 15,
     "metadata": {},
     "output_type": "execute_result"
    }
   ],
   "source": [
    "#5 ближайших соседей\n",
    "\n",
    "cl1_2 = KNeighborsClassifier(n_neighbors=5)\n",
    "cl1_2.fit(x_train, y_train)\n",
    "target1_2 = cl1_2.predict(x_test)\n",
    "target1_2"
   ]
  },
  {
   "cell_type": "code",
   "execution_count": 16,
   "metadata": {},
   "outputs": [
    {
     "data": {
      "text/plain": [
       "0.7557251908396947"
      ]
     },
     "execution_count": 16,
     "metadata": {},
     "output_type": "execute_result"
    }
   ],
   "source": [
    "#метрика accurancy\n",
    "# 3 ближайших соседа\n",
    "accuracy_score(y_test, target1_1)"
   ]
  },
  {
   "cell_type": "code",
   "execution_count": 17,
   "metadata": {},
   "outputs": [
    {
     "data": {
      "text/plain": [
       "0.7251908396946565"
      ]
     },
     "execution_count": 17,
     "metadata": {},
     "output_type": "execute_result"
    }
   ],
   "source": [
    "#5 ближайших соседей\n",
    "accuracy_score(y_test, target1_2)"
   ]
  },
  {
   "cell_type": "code",
   "execution_count": 18,
   "metadata": {},
   "outputs": [],
   "source": [
    "#чтобы избежать проблемы дисбаланса классов используем метрику balanced_accuracy_score\n",
    "# Конвертация целевого признака в бинарный\n",
    "def convert_target_to_binary(array:np.ndarray, target:int) -> np.ndarray:\n",
    "    # Если целевой признак совпадает с указанным, то 1 иначе 0\n",
    "    res = [1 if x==target else 0 for x in array]\n",
    "    return res"
   ]
  },
  {
   "cell_type": "code",
   "execution_count": 19,
   "metadata": {},
   "outputs": [
    {
     "data": {
      "text/plain": [
       "[(6, 1),\n",
       " (10, 0),\n",
       " (1, 0),\n",
       " (13, 0),\n",
       " (11, 0),\n",
       " (7, 0),\n",
       " (6, 1),\n",
       " (9, 0),\n",
       " (0, 0),\n",
       " (8, 0),\n",
       " (6, 1),\n",
       " (4, 0),\n",
       " (6, 1),\n",
       " (9, 0),\n",
       " (6, 1),\n",
       " (2, 0),\n",
       " (6, 1),\n",
       " (11, 0),\n",
       " (9, 0),\n",
       " (11, 0),\n",
       " (13, 0),\n",
       " (2, 0),\n",
       " (6, 1),\n",
       " (5, 0),\n",
       " (6, 1),\n",
       " (5, 0),\n",
       " (8, 0),\n",
       " (12, 0),\n",
       " (2, 0),\n",
       " (5, 0),\n",
       " (12, 0),\n",
       " (9, 0),\n",
       " (1, 0),\n",
       " (2, 0),\n",
       " (3, 0),\n",
       " (6, 1),\n",
       " (13, 0),\n",
       " (12, 0),\n",
       " (1, 0),\n",
       " (8, 0),\n",
       " (10, 0),\n",
       " (4, 0),\n",
       " (11, 0),\n",
       " (8, 0),\n",
       " (8, 0),\n",
       " (5, 0),\n",
       " (0, 0),\n",
       " (13, 0),\n",
       " (9, 0),\n",
       " (14, 0),\n",
       " (9, 0),\n",
       " (0, 0),\n",
       " (14, 0),\n",
       " (4, 0),\n",
       " (1, 0),\n",
       " (0, 0),\n",
       " (6, 1),\n",
       " (11, 0),\n",
       " (3, 0),\n",
       " (10, 0),\n",
       " (4, 0),\n",
       " (10, 0),\n",
       " (4, 0),\n",
       " (12, 0),\n",
       " (2, 0),\n",
       " (9, 0),\n",
       " (11, 0),\n",
       " (3, 0),\n",
       " (4, 0),\n",
       " (4, 0),\n",
       " (10, 0),\n",
       " (0, 0),\n",
       " (3, 0),\n",
       " (7, 0),\n",
       " (13, 0),\n",
       " (2, 0),\n",
       " (2, 0),\n",
       " (5, 0),\n",
       " (0, 0),\n",
       " (2, 0),\n",
       " (14, 0),\n",
       " (10, 0),\n",
       " (2, 0),\n",
       " (7, 0),\n",
       " (1, 0),\n",
       " (13, 0),\n",
       " (6, 1),\n",
       " (2, 0),\n",
       " (12, 0),\n",
       " (2, 0),\n",
       " (14, 0),\n",
       " (5, 0),\n",
       " (11, 0),\n",
       " (3, 0),\n",
       " (13, 0),\n",
       " (7, 0),\n",
       " (14, 0),\n",
       " (14, 0),\n",
       " (4, 0),\n",
       " (7, 0),\n",
       " (10, 0),\n",
       " (6, 1),\n",
       " (0, 0),\n",
       " (8, 0),\n",
       " (5, 0),\n",
       " (1, 0),\n",
       " (3, 0),\n",
       " (2, 0),\n",
       " (13, 0),\n",
       " (2, 0),\n",
       " (14, 0),\n",
       " (7, 0),\n",
       " (4, 0),\n",
       " (10, 0),\n",
       " (14, 0),\n",
       " (10, 0),\n",
       " (7, 0),\n",
       " (7, 0),\n",
       " (1, 0),\n",
       " (12, 0),\n",
       " (0, 0),\n",
       " (5, 0),\n",
       " (11, 0),\n",
       " (5, 0),\n",
       " (2, 0),\n",
       " (11, 0),\n",
       " (1, 0),\n",
       " (1, 0),\n",
       " (0, 0),\n",
       " (10, 0),\n",
       " (11, 0)]"
      ]
     },
     "execution_count": 19,
     "metadata": {},
     "output_type": "execute_result"
    }
   ],
   "source": [
    "# Если целевой признак ==6, \n",
    "# то будем считать этот случай 1 в бинарном признаке\n",
    "bin_y_test = convert_target_to_binary(y_test, 6)\n",
    "list(zip(y_test, bin_y_test))"
   ]
  },
  {
   "cell_type": "code",
   "execution_count": 20,
   "metadata": {},
   "outputs": [],
   "source": [
    "# Конвертация предсказанных признаков\n",
    "bin_target1_1 = convert_target_to_binary(target1_1, 6)\n",
    "bin_target1_2 = convert_target_to_binary(target1_2, 6)"
   ]
  },
  {
   "cell_type": "code",
   "execution_count": 21,
   "metadata": {},
   "outputs": [
    {
     "data": {
      "text/plain": [
       "0.6957282913165266"
      ]
     },
     "execution_count": 21,
     "metadata": {},
     "output_type": "execute_result"
    }
   ],
   "source": [
    "#3 neighbours\n",
    "balanced_accuracy_score(bin_y_test, bin_target1_1)"
   ]
  },
  {
   "cell_type": "code",
   "execution_count": 22,
   "metadata": {},
   "outputs": [
    {
     "data": {
      "text/plain": [
       "0.6957282913165266"
      ]
     },
     "execution_count": 22,
     "metadata": {},
     "output_type": "execute_result"
    }
   ],
   "source": [
    "#5 neighbours\n",
    "balanced_accuracy_score(bin_y_test, bin_target1_2)"
   ]
  },
  {
   "cell_type": "code",
   "execution_count": 23,
   "metadata": {},
   "outputs": [
    {
     "data": {
      "text/plain": [
       "(0.625, 0.4166666666666667)"
      ]
     },
     "execution_count": 23,
     "metadata": {},
     "output_type": "execute_result"
    }
   ],
   "source": [
    "# По умолчанию метрики precision считаются для 1 класса бинарной классификации\n",
    "# Для 3 ближайших соседей\n",
    "precision_score(bin_y_test, bin_target1_1), recall_score(bin_y_test, bin_target1_1)"
   ]
  },
  {
   "cell_type": "code",
   "execution_count": 24,
   "metadata": {},
   "outputs": [
    {
     "data": {
      "text/plain": [
       "(0.625, 0.4166666666666667)"
      ]
     },
     "execution_count": 24,
     "metadata": {},
     "output_type": "execute_result"
    }
   ],
   "source": [
    "# Для 5 ближайших соседей\n",
    "precision_score(bin_y_test, bin_target1_2), recall_score(bin_y_test, bin_target1_2)"
   ]
  },
  {
   "cell_type": "code",
   "execution_count": null,
   "metadata": {},
   "outputs": [],
   "source": []
  },
  {
   "cell_type": "code",
   "execution_count": 25,
   "metadata": {},
   "outputs": [],
   "source": [
    "#5)Постройте модель и оцените качество модели с использованием кросс-валидации. \n",
    "#Проведите эксперименты с тремя различными стратегиями кросс-валидации.\n",
    "cols_x = ['blue', 'green', 'red']   \n",
    "# целевой признак\n",
    "col_y = 'label'\n",
    "scores = cross_val_score(KNeighborsClassifier(n_neighbors=3), \n",
    "                        data[cols_x], data[col_y], cv=4)"
   ]
  },
  {
   "cell_type": "code",
   "execution_count": 26,
   "metadata": {},
   "outputs": [
    {
     "data": {
      "text/plain": [
       "array([0.84146341, 0.49390244, 0.79141104, 0.69135802])"
      ]
     },
     "execution_count": 26,
     "metadata": {},
     "output_type": "execute_result"
    }
   ],
   "source": [
    "# Значение метрики accuracy для 4 фолдов\n",
    "scores"
   ]
  },
  {
   "cell_type": "code",
   "execution_count": 27,
   "metadata": {},
   "outputs": [
    {
     "data": {
      "text/plain": [
       "0.70453373032367"
      ]
     },
     "execution_count": 27,
     "metadata": {},
     "output_type": "execute_result"
    }
   ],
   "source": [
    "# Усредненное значение метрики accuracy для 4 фолдов\n",
    "np.mean(scores)"
   ]
  },
  {
   "cell_type": "code",
   "execution_count": 28,
   "metadata": {},
   "outputs": [],
   "source": [
    "scoring = {'precision': 'precision_weighted', \n",
    "           'recall': 'recall_weighted',\n",
    "           'f1': 'f1_weighted'}"
   ]
  },
  {
   "cell_type": "code",
   "execution_count": 29,
   "metadata": {},
   "outputs": [
    {
     "data": {
      "text/plain": [
       "{'fit_time': array([0.00462151, 0.00731635, 0.00500417]),\n",
       " 'score_time': array([0.05195951, 0.05331278, 0.04233408]),\n",
       " 'test_f1': array([0.76280653, 0.62050182, 0.64859206]),\n",
       " 'test_precision': array([0.77082466, 0.63642973, 0.67360932]),\n",
       " 'test_recall': array([0.76233184, 0.62162162, 0.65384615]),\n",
       " 'train_f1': array([0.75870103, 0.78513168, 0.75816172]),\n",
       " 'train_precision': array([0.76320672, 0.79188109, 0.76575815]),\n",
       " 'train_recall': array([0.76046512, 0.78422274, 0.75730337])}"
      ]
     },
     "execution_count": 29,
     "metadata": {},
     "output_type": "execute_result"
    }
   ],
   "source": [
    "#использование cross_validate, которая позволяет использовать для оценки несколько метрик и возращает более детальную информацию\n",
    "scores = cross_validate(KNeighborsClassifier(n_neighbors=5), \n",
    "                        data[cols_x], data[col_y], scoring=scoring, \n",
    "                        cv=3, return_train_score=True)\n",
    "scores"
   ]
  },
  {
   "cell_type": "code",
   "execution_count": 30,
   "metadata": {},
   "outputs": [
    {
     "data": {
      "text/plain": [
       "array([0.84146341, 0.49693252, 0.79141104, 0.6993865 ])"
      ]
     },
     "execution_count": 30,
     "metadata": {},
     "output_type": "execute_result"
    }
   ],
   "source": [
    "#k-fold - стратегия кросс-валидации\n",
    "scores = cross_val_score(KNeighborsClassifier(n_neighbors=3), \n",
    "                         data[cols_x], data[col_y], \n",
    "                         cv=KFold(n_splits=4))\n",
    "scores"
   ]
  },
  {
   "cell_type": "code",
   "execution_count": 31,
   "metadata": {},
   "outputs": [
    {
     "data": {
      "text/plain": [
       "{'fit_time': array([0.00535703, 0.00367045, 0.00489783]),\n",
       " 'score_time': array([0.05643773, 0.06669497, 0.05551076]),\n",
       " 'test_f1': array([0.76650823, 0.63937944, 0.6494849 ]),\n",
       " 'test_precision': array([0.77304384, 0.6593833 , 0.66252848]),\n",
       " 'test_recall': array([0.76605505, 0.63761468, 0.65437788]),\n",
       " 'train_f1': array([0.79135955, 0.83971524, 0.80908048]),\n",
       " 'train_precision': array([0.7954776 , 0.84475192, 0.81209178]),\n",
       " 'train_recall': array([0.79310345, 0.83908046, 0.80963303])}"
      ]
     },
     "execution_count": 31,
     "metadata": {},
     "output_type": "execute_result"
    }
   ],
   "source": [
    "scores = cross_validate(KNeighborsClassifier(n_neighbors=3), \n",
    "                        data[cols_x], data[col_y], scoring=scoring, \n",
    "                        cv=KFold(n_splits=3), return_train_score=True)\n",
    "scores"
   ]
  },
  {
   "cell_type": "code",
   "execution_count": 32,
   "metadata": {},
   "outputs": [
    {
     "data": {
      "text/plain": [
       "array([0.70121951, 0.63414634, 0.74390244, 0.73780488, 0.72560976])"
      ]
     },
     "execution_count": 32,
     "metadata": {},
     "output_type": "execute_result"
    }
   ],
   "source": [
    "#ShuffleSplit\n",
    "scores = cross_val_score(KNeighborsClassifier(n_neighbors=3), \n",
    "                         data[cols_x], data[col_y], \n",
    "                         cv=ShuffleSplit(n_splits=5, test_size=0.25))\n",
    "scores"
   ]
  },
  {
   "cell_type": "code",
   "execution_count": null,
   "metadata": {},
   "outputs": [],
   "source": []
  },
  {
   "cell_type": "code",
   "execution_count": 33,
   "metadata": {},
   "outputs": [
    {
     "data": {
      "text/plain": [
       "[{'n_neighbors': array([ 3,  6,  9, 12, 15, 18, 21, 24, 27, 30])}]"
      ]
     },
     "execution_count": 33,
     "metadata": {},
     "output_type": "execute_result"
    }
   ],
   "source": [
    "#6)Произведите подбор гиперпараметра K с использованием GridSearchCV и кросс-валидации. \n",
    "\n",
    "n_range = np.array(range(3,33,3))\n",
    "tuned_parameters = [{'n_neighbors': n_range}]\n",
    "tuned_parameters"
   ]
  },
  {
   "cell_type": "code",
   "execution_count": 34,
   "metadata": {},
   "outputs": [
    {
     "name": "stderr",
     "output_type": "stream",
     "text": [
      "C:\\anaconda3\\lib\\site-packages\\sklearn\\model_selection\\_search.py:841: DeprecationWarning: The default of the `iid` parameter will change from True to False in version 0.22 and will be removed in 0.24. This will change numeric results when test-set sizes are unequal.\n",
      "  DeprecationWarning)\n"
     ]
    },
    {
     "data": {
      "text/plain": [
       "GridSearchCV(cv=5, error_score='raise-deprecating',\n",
       "       estimator=KNeighborsClassifier(algorithm='auto', leaf_size=30, metric='minkowski',\n",
       "           metric_params=None, n_jobs=None, n_neighbors=5, p=2,\n",
       "           weights='uniform'),\n",
       "       fit_params=None, iid='warn', n_jobs=None,\n",
       "       param_grid=[{'n_neighbors': array([ 3,  6,  9, 12, 15, 18, 21, 24, 27, 30])}],\n",
       "       pre_dispatch='2*n_jobs', refit=True, return_train_score='warn',\n",
       "       scoring='accuracy', verbose=0)"
      ]
     },
     "execution_count": 34,
     "metadata": {},
     "output_type": "execute_result"
    }
   ],
   "source": [
    "clf_gs = GridSearchCV(KNeighborsClassifier(), tuned_parameters, cv=5, scoring='accuracy')\n",
    "clf_gs.fit(x_train, y_train)"
   ]
  },
  {
   "cell_type": "code",
   "execution_count": 35,
   "metadata": {},
   "outputs": [
    {
     "name": "stderr",
     "output_type": "stream",
     "text": [
      "C:\\anaconda3\\lib\\site-packages\\sklearn\\utils\\deprecation.py:125: FutureWarning: You are accessing a training score ('mean_train_score'), which will not be available by default any more in 0.21. If you need training scores, please set return_train_score=True\n",
      "  warnings.warn(*warn_args, **warn_kwargs)\n",
      "C:\\anaconda3\\lib\\site-packages\\sklearn\\utils\\deprecation.py:125: FutureWarning: You are accessing a training score ('split0_train_score'), which will not be available by default any more in 0.21. If you need training scores, please set return_train_score=True\n",
      "  warnings.warn(*warn_args, **warn_kwargs)\n",
      "C:\\anaconda3\\lib\\site-packages\\sklearn\\utils\\deprecation.py:125: FutureWarning: You are accessing a training score ('split1_train_score'), which will not be available by default any more in 0.21. If you need training scores, please set return_train_score=True\n",
      "  warnings.warn(*warn_args, **warn_kwargs)\n",
      "C:\\anaconda3\\lib\\site-packages\\sklearn\\utils\\deprecation.py:125: FutureWarning: You are accessing a training score ('split2_train_score'), which will not be available by default any more in 0.21. If you need training scores, please set return_train_score=True\n",
      "  warnings.warn(*warn_args, **warn_kwargs)\n",
      "C:\\anaconda3\\lib\\site-packages\\sklearn\\utils\\deprecation.py:125: FutureWarning: You are accessing a training score ('split3_train_score'), which will not be available by default any more in 0.21. If you need training scores, please set return_train_score=True\n",
      "  warnings.warn(*warn_args, **warn_kwargs)\n",
      "C:\\anaconda3\\lib\\site-packages\\sklearn\\utils\\deprecation.py:125: FutureWarning: You are accessing a training score ('split4_train_score'), which will not be available by default any more in 0.21. If you need training scores, please set return_train_score=True\n",
      "  warnings.warn(*warn_args, **warn_kwargs)\n",
      "C:\\anaconda3\\lib\\site-packages\\sklearn\\utils\\deprecation.py:125: FutureWarning: You are accessing a training score ('std_train_score'), which will not be available by default any more in 0.21. If you need training scores, please set return_train_score=True\n",
      "  warnings.warn(*warn_args, **warn_kwargs)\n"
     ]
    },
    {
     "data": {
      "text/plain": [
       "{'mean_fit_time': array([0.01012812, 0.01235967, 0.01163816, 0.01494889, 0.00439   ,\n",
       "        0.01074924, 0.0044364 , 0.00401583, 0.00536175, 0.00774145]),\n",
       " 'mean_score_time': array([0.02786288, 0.03529377, 0.03671722, 0.03123302, 0.01209278,\n",
       "        0.01256075, 0.01266665, 0.01243424, 0.01520262, 0.01784458]),\n",
       " 'mean_test_score': array([0.70881226, 0.6954023 , 0.70114943, 0.6954023 , 0.6743295 ,\n",
       "        0.66283525, 0.65708812, 0.63601533, 0.60727969, 0.58045977]),\n",
       " 'mean_train_score': array([0.80311464, 0.73888204, 0.72840316, 0.71023173, 0.69442267,\n",
       "        0.68286018, 0.66413172, 0.65983287, 0.63778897, 0.61679963]),\n",
       " 'param_n_neighbors': masked_array(data=[3, 6, 9, 12, 15, 18, 21, 24, 27, 30],\n",
       "              mask=[False, False, False, False, False, False, False, False,\n",
       "                    False, False],\n",
       "        fill_value='?',\n",
       "             dtype=object),\n",
       " 'params': [{'n_neighbors': 3},\n",
       "  {'n_neighbors': 6},\n",
       "  {'n_neighbors': 9},\n",
       "  {'n_neighbors': 12},\n",
       "  {'n_neighbors': 15},\n",
       "  {'n_neighbors': 18},\n",
       "  {'n_neighbors': 21},\n",
       "  {'n_neighbors': 24},\n",
       "  {'n_neighbors': 27},\n",
       "  {'n_neighbors': 30}],\n",
       " 'rank_test_score': array([ 1,  3,  2,  3,  5,  6,  7,  8,  9, 10]),\n",
       " 'split0_test_score': array([0.72477064, 0.74311927, 0.72477064, 0.74311927, 0.71559633,\n",
       "        0.66972477, 0.68807339, 0.67889908, 0.66972477, 0.65137615]),\n",
       " 'split0_train_score': array([0.78934625, 0.72881356, 0.72397094, 0.71670702, 0.69975787,\n",
       "        0.65859564, 0.64164649, 0.63680387, 0.62227603, 0.61501211]),\n",
       " 'split1_test_score': array([0.80373832, 0.74766355, 0.75700935, 0.74766355, 0.71028037,\n",
       "        0.70093458, 0.70093458, 0.6635514 , 0.63551402, 0.57009346]),\n",
       " 'split1_train_score': array([0.80481928, 0.71084337, 0.71807229, 0.69638554, 0.6746988 ,\n",
       "        0.6746988 , 0.6626506 , 0.65542169, 0.62891566, 0.60240964]),\n",
       " 'split2_test_score': array([0.64761905, 0.63809524, 0.66666667, 0.66666667, 0.65714286,\n",
       "        0.65714286, 0.6       , 0.58095238, 0.58095238, 0.55238095]),\n",
       " 'split2_train_score': array([0.79376499, 0.74820144, 0.72901679, 0.71223022, 0.70503597,\n",
       "        0.70023981, 0.65467626, 0.65227818, 0.6235012 , 0.60911271]),\n",
       " 'split3_test_score': array([0.66666667, 0.68627451, 0.69607843, 0.67647059, 0.66666667,\n",
       "        0.67647059, 0.67647059, 0.64705882, 0.57843137, 0.58823529]),\n",
       " 'split3_train_score': array([0.83095238, 0.75714286, 0.73809524, 0.70952381, 0.69285714,\n",
       "        0.68809524, 0.66428571, 0.67380952, 0.64285714, 0.63571429]),\n",
       " 'split4_test_score': array([0.6969697 , 0.65656566, 0.65656566, 0.63636364, 0.61616162,\n",
       "        0.60606061, 0.61616162, 0.60606061, 0.56565657, 0.53535354]),\n",
       " 'split4_train_score': array([0.79669031, 0.74940898, 0.73286052, 0.71631206, 0.69976359,\n",
       "        0.69267139, 0.69739953, 0.68085106, 0.6713948 , 0.62174941]),\n",
       " 'std_fit_time': array([0.00447597, 0.00362694, 0.00503459, 0.00630942, 0.00368528,\n",
       "        0.008273  , 0.00174965, 0.00340402, 0.00147734, 0.00461459]),\n",
       " 'std_score_time': array([0.00842249, 0.01497121, 0.02278185, 0.02106261, 0.00266163,\n",
       "        0.00320058, 0.00447175, 0.00176709, 0.00610245, 0.00473926]),\n",
       " 'std_test_score': array([0.05501963, 0.04470153, 0.037112  , 0.04396002, 0.03651186,\n",
       "        0.03101012, 0.0405116 , 0.03665118, 0.04010314, 0.04035397]),\n",
       " 'std_train_score': array([0.0148061 , 0.01684438, 0.00693617, 0.00741771, 0.01059353,\n",
       "        0.01470438, 0.01846053, 0.01577326, 0.01832247, 0.01141596])}"
      ]
     },
     "execution_count": 35,
     "metadata": {},
     "output_type": "execute_result"
    }
   ],
   "source": [
    "clf_gs.cv_results_"
   ]
  },
  {
   "cell_type": "code",
   "execution_count": 36,
   "metadata": {},
   "outputs": [
    {
     "data": {
      "text/plain": [
       "KNeighborsClassifier(algorithm='auto', leaf_size=30, metric='minkowski',\n",
       "           metric_params=None, n_jobs=None, n_neighbors=3, p=2,\n",
       "           weights='uniform')"
      ]
     },
     "execution_count": 36,
     "metadata": {},
     "output_type": "execute_result"
    }
   ],
   "source": [
    "# Лучшая модель\n",
    "clf_gs.best_estimator_"
   ]
  },
  {
   "cell_type": "code",
   "execution_count": 37,
   "metadata": {},
   "outputs": [
    {
     "data": {
      "text/plain": [
       "0.7088122605363985"
      ]
     },
     "execution_count": 37,
     "metadata": {},
     "output_type": "execute_result"
    }
   ],
   "source": [
    "# Лучшее значение метрики\n",
    "clf_gs.best_score_"
   ]
  },
  {
   "cell_type": "code",
   "execution_count": 38,
   "metadata": {},
   "outputs": [
    {
     "data": {
      "text/plain": [
       "{'n_neighbors': 3}"
      ]
     },
     "execution_count": 38,
     "metadata": {},
     "output_type": "execute_result"
    }
   ],
   "source": [
    "# Лучшее значение параметров\n",
    "clf_gs.best_params_"
   ]
  },
  {
   "cell_type": "code",
   "execution_count": 39,
   "metadata": {},
   "outputs": [
    {
     "name": "stderr",
     "output_type": "stream",
     "text": [
      "C:\\anaconda3\\lib\\site-packages\\sklearn\\utils\\deprecation.py:125: FutureWarning: You are accessing a training score ('mean_train_score'), which will not be available by default any more in 0.21. If you need training scores, please set return_train_score=True\n",
      "  warnings.warn(*warn_args, **warn_kwargs)\n"
     ]
    },
    {
     "data": {
      "text/plain": [
       "[<matplotlib.lines.Line2D at 0x1e45dddba58>]"
      ]
     },
     "execution_count": 39,
     "metadata": {},
     "output_type": "execute_result"
    },
    {
     "data": {
      "image/png": "[encoded data removed]",
      "text/plain": [
       "<Figure size 432x288 with 1 Axes>"
      ]
     },
     "metadata": {},
     "output_type": "display_data"
    }
   ],
   "source": [
    "# Изменение качества на обучающей выборке\n",
    "plt.plot(n_range, clf_gs.cv_results_['mean_train_score'])"
   ]
  },
  {
   "cell_type": "code",
   "execution_count": 40,
   "metadata": {},
   "outputs": [
    {
     "data": {
      "text/plain": [
       "[<matplotlib.lines.Line2D at 0x1e45de695f8>]"
      ]
     },
     "execution_count": 40,
     "metadata": {},
     "output_type": "execute_result"
    },
    {
     "data": {
      "image/png": "[encoded data removed]",
      "text/plain": [
       "<Figure size 432x288 with 1 Axes>"
      ]
     },
     "metadata": {},
     "output_type": "display_data"
    }
   ],
   "source": [
    "# Изменение качества на тестовой выборке\n",
    "plt.plot(n_range, clf_gs.cv_results_['mean_test_score'])"
   ]
  },
  {
   "cell_type": "code",
   "execution_count": null,
   "metadata": {},
   "outputs": [],
   "source": []
  },
  {
   "cell_type": "code",
   "execution_count": 41,
   "metadata": {},
   "outputs": [],
   "source": [
    "#7)Повторите пункт 4 для найденного оптимального значения гиперпараметра K. \n",
    "#Сравните качество полученной модели с качеством модели, полученной в пункте 4."
   ]
  },
  {
   "cell_type": "code",
   "execution_count": 42,
   "metadata": {},
   "outputs": [
    {
     "data": {
      "text/plain": [
       "array([ 6,  9,  1, 13, 11,  7,  6,  5,  0,  9,  5,  1,  6,  9,  5,  2,  7,\n",
       "       11,  9, 11, 13,  2,  6,  5,  3,  5,  8, 12,  2,  5, 12,  9,  1,  2,\n",
       "        3,  5, 13, 10,  1,  4, 10,  3, 11,  4,  8,  6,  0, 13, 14, 14,  9,\n",
       "        0, 14,  4,  1,  0,  6, 11,  3, 10,  4, 10,  3, 11,  2,  9, 11,  3,\n",
       "        4,  4,  8,  0,  3,  7, 13,  2,  2,  5,  0,  2, 14, 11,  2,  7,  1,\n",
       "       13,  2,  2, 10,  2, 14,  5, 11,  3, 13,  6, 14, 14,  4,  7, 10,  5,\n",
       "        0,  8,  5,  1,  0,  1, 13,  2, 14,  7,  4, 10, 14,  9,  6,  4,  1,\n",
       "       12,  0,  5, 10,  5,  2, 12,  0,  1,  0, 10,  8], dtype=int64)"
      ]
     },
     "execution_count": 42,
     "metadata": {},
     "output_type": "execute_result"
    }
   ],
   "source": [
    "# 3 ближайших соседа\n",
    "cl_best = KNeighborsClassifier(n_neighbors=3)\n",
    "cl_best.fit(x_train, y_train)\n",
    "target_best = cl_best.predict(x_test)\n",
    "target_best"
   ]
  },
  {
   "cell_type": "code",
   "execution_count": 43,
   "metadata": {},
   "outputs": [
    {
     "data": {
      "text/plain": [
       "0.7557251908396947"
      ]
     },
     "execution_count": 43,
     "metadata": {},
     "output_type": "execute_result"
    }
   ],
   "source": [
    "# 3 ближайших соседа\n",
    "accuracy_score(y_test, target_best)"
   ]
  },
  {
   "cell_type": "code",
   "execution_count": 44,
   "metadata": {},
   "outputs": [],
   "source": [
    "# Конвертация целевого признака в бинарный\n",
    "def convert_target_to_binary(array:np.ndarray, target:int) -> np.ndarray:\n",
    "    # Если целевой признак совпадает с указанным, то 1 иначе 0\n",
    "    res = [1 if x==target else 0 for x in array]\n",
    "    return res"
   ]
  },
  {
   "cell_type": "code",
   "execution_count": 45,
   "metadata": {},
   "outputs": [
    {
     "data": {
      "text/plain": [
       "[(6, 1),\n",
       " (10, 0),\n",
       " (1, 0),\n",
       " (13, 0),\n",
       " (11, 0),\n",
       " (7, 0),\n",
       " (6, 1),\n",
       " (9, 0),\n",
       " (0, 0),\n",
       " (8, 0),\n",
       " (6, 1),\n",
       " (4, 0),\n",
       " (6, 1),\n",
       " (9, 0),\n",
       " (6, 1),\n",
       " (2, 0),\n",
       " (6, 1),\n",
       " (11, 0),\n",
       " (9, 0),\n",
       " (11, 0),\n",
       " (13, 0),\n",
       " (2, 0),\n",
       " (6, 1),\n",
       " (5, 0),\n",
       " (6, 1),\n",
       " (5, 0),\n",
       " (8, 0),\n",
       " (12, 0),\n",
       " (2, 0),\n",
       " (5, 0),\n",
       " (12, 0),\n",
       " (9, 0),\n",
       " (1, 0),\n",
       " (2, 0),\n",
       " (3, 0),\n",
       " (6, 1),\n",
       " (13, 0),\n",
       " (12, 0),\n",
       " (1, 0),\n",
       " (8, 0),\n",
       " (10, 0),\n",
       " (4, 0),\n",
       " (11, 0),\n",
       " (8, 0),\n",
       " (8, 0),\n",
       " (5, 0),\n",
       " (0, 0),\n",
       " (13, 0),\n",
       " (9, 0),\n",
       " (14, 0),\n",
       " (9, 0),\n",
       " (0, 0),\n",
       " (14, 0),\n",
       " (4, 0),\n",
       " (1, 0),\n",
       " (0, 0),\n",
       " (6, 1),\n",
       " (11, 0),\n",
       " (3, 0),\n",
       " (10, 0),\n",
       " (4, 0),\n",
       " (10, 0),\n",
       " (4, 0),\n",
       " (12, 0),\n",
       " (2, 0),\n",
       " (9, 0),\n",
       " (11, 0),\n",
       " (3, 0),\n",
       " (4, 0),\n",
       " (4, 0),\n",
       " (10, 0),\n",
       " (0, 0),\n",
       " (3, 0),\n",
       " (7, 0),\n",
       " (13, 0),\n",
       " (2, 0),\n",
       " (2, 0),\n",
       " (5, 0),\n",
       " (0, 0),\n",
       " (2, 0),\n",
       " (14, 0),\n",
       " (10, 0),\n",
       " (2, 0),\n",
       " (7, 0),\n",
       " (1, 0),\n",
       " (13, 0),\n",
       " (6, 1),\n",
       " (2, 0),\n",
       " (12, 0),\n",
       " (2, 0),\n",
       " (14, 0),\n",
       " (5, 0),\n",
       " (11, 0),\n",
       " (3, 0),\n",
       " (13, 0),\n",
       " (7, 0),\n",
       " (14, 0),\n",
       " (14, 0),\n",
       " (4, 0),\n",
       " (7, 0),\n",
       " (10, 0),\n",
       " (6, 1),\n",
       " (0, 0),\n",
       " (8, 0),\n",
       " (5, 0),\n",
       " (1, 0),\n",
       " (3, 0),\n",
       " (2, 0),\n",
       " (13, 0),\n",
       " (2, 0),\n",
       " (14, 0),\n",
       " (7, 0),\n",
       " (4, 0),\n",
       " (10, 0),\n",
       " (14, 0),\n",
       " (10, 0),\n",
       " (7, 0),\n",
       " (7, 0),\n",
       " (1, 0),\n",
       " (12, 0),\n",
       " (0, 0),\n",
       " (5, 0),\n",
       " (11, 0),\n",
       " (5, 0),\n",
       " (2, 0),\n",
       " (11, 0),\n",
       " (1, 0),\n",
       " (1, 0),\n",
       " (0, 0),\n",
       " (10, 0),\n",
       " (11, 0)]"
      ]
     },
     "execution_count": 45,
     "metadata": {},
     "output_type": "execute_result"
    }
   ],
   "source": [
    "bin_y_best = convert_target_to_binary(y_test, 6)\n",
    "list(zip(y_test, bin_y_best))"
   ]
  },
  {
   "cell_type": "code",
   "execution_count": 46,
   "metadata": {},
   "outputs": [],
   "source": [
    "# Конвертация предсказанных признаков\n",
    "bin_target_best = convert_target_to_binary(target1_1, 6)"
   ]
  },
  {
   "cell_type": "code",
   "execution_count": 47,
   "metadata": {},
   "outputs": [
    {
     "data": {
      "text/plain": [
       "0.6957282913165266"
      ]
     },
     "execution_count": 47,
     "metadata": {},
     "output_type": "execute_result"
    }
   ],
   "source": [
    "#3 neighbours\n",
    "balanced_accuracy_score(bin_y_best, bin_target_best)"
   ]
  },
  {
   "cell_type": "code",
   "execution_count": 48,
   "metadata": {},
   "outputs": [
    {
     "data": {
      "text/plain": [
       "(0.625, 0.4166666666666667)"
      ]
     },
     "execution_count": 48,
     "metadata": {},
     "output_type": "execute_result"
    }
   ],
   "source": [
    "# Для 3 ближайших соседей\n",
    "precision_score(bin_y_test, bin_target_best), recall_score(bin_y_test, bin_target_best)"
   ]
  },
  {
   "cell_type": "code",
   "execution_count": 49,
   "metadata": {},
   "outputs": [],
   "source": [
    "#8) Постройте кривые обучения и валидации."
   ]
  },
  {
   "cell_type": "code",
   "execution_count": 50,
   "metadata": {},
   "outputs": [],
   "source": [
    "def plot_learning_curve(estimator, title, X, y, ylim=None, cv=None,\n",
    "                        n_jobs=None, train_sizes=np.linspace(.1, 1.0, 5)):\n",
    "    \"\"\"\n",
    "    Generate a simple plot of the test and training learning curve.\n",
    "\n",
    "    Parameters\n",
    "    ----------\n",
    "    estimator : object type that implements the \"fit\" and \"predict\" methods\n",
    "        An object of that type which is cloned for each validation.\n",
    "\n",
    "    title : string\n",
    "        Title for the chart.\n",
    "\n",
    "    X : array-like, shape (n_samples, n_features)\n",
    "        Training vector, where n_samples is the number of samples and\n",
    "        n_features is the number of features.\n",
    "\n",
    "    y : array-like, shape (n_samples) or (n_samples, n_features), optional\n",
    "        Target relative to X for classification or regression;\n",
    "        None for unsupervised learning.\n",
    "\n",
    "    ylim : tuple, shape (ymin, ymax), optional\n",
    "        Defines minimum and maximum yvalues plotted.\n",
    "\n",
    "    cv : int, cross-validation generator or an iterable, optional\n",
    "        Determines the cross-validation splitting strategy.\n",
    "        Possible inputs for cv are:\n",
    "          - None, to use the default 3-fold cross-validation,\n",
    "          - integer, to specify the number of folds.\n",
    "          - :term:`CV splitter`,\n",
    "          - An iterable yielding (train, test) splits as arrays of indices.\n",
    "\n",
    "        For integer/None inputs, if ``y`` is binary or multiclass,\n",
    "        :class:`StratifiedKFold` used. If the estimator is not a classifier\n",
    "        or if ``y`` is neither binary nor multiclass, :class:`KFold` is used.\n",
    "\n",
    "        Refer :ref:`User Guide <cross_validation>` for the various\n",
    "        cross-validators that can be used here.\n",
    "\n",
    "    n_jobs : int or None, optional (default=None)\n",
    "        Number of jobs to run in parallel.\n",
    "        ``None`` means 1 unless in a :obj:`joblib.parallel_backend` context.\n",
    "        ``-1`` means using all processors. See :term:`Glossary <n_jobs>`\n",
    "        for more details.\n",
    "\n",
    "    train_sizes : array-like, shape (n_ticks,), dtype float or int\n",
    "        Relative or absolute numbers of training examples that will be used to\n",
    "        generate the learning curve. If the dtype is float, it is regarded as a\n",
    "        fraction of the maximum size of the training set (that is determined\n",
    "        by the selected validation method), i.e. it has to be within (0, 1].\n",
    "        Otherwise it is interpreted as absolute sizes of the training sets.\n",
    "        Note that for classification the number of samples usually have to\n",
    "        be big enough to contain at least one sample from each class.\n",
    "        (default: np.linspace(0.1, 1.0, 5))\n",
    "    \"\"\"\n",
    "    plt.figure()\n",
    "    plt.title(title)\n",
    "    if ylim is not None:\n",
    "        plt.ylim(*ylim)\n",
    "    plt.xlabel(\"Training examples\")\n",
    "    plt.ylabel(\"Score\")\n",
    "    train_sizes, train_scores, test_scores = learning_curve(\n",
    "        estimator, X, y, cv=cv, n_jobs=n_jobs, train_sizes=train_sizes)\n",
    "    train_scores_mean = np.mean(train_scores, axis=1)\n",
    "    train_scores_std = np.std(train_scores, axis=1)\n",
    "    test_scores_mean = np.mean(test_scores, axis=1)\n",
    "    test_scores_std = np.std(test_scores, axis=1)\n",
    "    plt.grid()\n",
    "\n",
    "    plt.fill_between(train_sizes, train_scores_mean - train_scores_std,\n",
    "                     train_scores_mean + train_scores_std, alpha=0.1,\n",
    "                     color=\"r\")\n",
    "    plt.fill_between(train_sizes, test_scores_mean - test_scores_std,\n",
    "                     test_scores_mean + test_scores_std, alpha=0.1, color=\"g\")\n",
    "    plt.plot(train_sizes, train_scores_mean, 'o-', color=\"r\",\n",
    "             label=\"Training score\")\n",
    "    plt.plot(train_sizes, test_scores_mean, 'o-', color=\"g\",\n",
    "             label=\"Cross-validation score\")\n",
    "\n",
    "    plt.legend(loc=\"best\")\n",
    "    return plt"
   ]
  },
  {
   "cell_type": "code",
   "execution_count": 51,
   "metadata": {},
   "outputs": [
    {
     "data": {
      "text/plain": [
       "<module 'matplotlib.pyplot' from 'C:\\\\anaconda3\\\\lib\\\\site-packages\\\\matplotlib\\\\pyplot.py'>"
      ]
     },
     "execution_count": 51,
     "metadata": {},
     "output_type": "execute_result"
    },
    {
     "data": {
      "image/png": "[encoded data removed]",
      "text/plain": [
       "<Figure size 432x288 with 1 Axes>"
      ]
     },
     "metadata": {},
     "output_type": "display_data"
    }
   ],
   "source": [
    "plot_learning_curve(KNeighborsClassifier(n_neighbors=5), 'n_neighbors=3', \n",
    "                    x_train, y_train, cv=20)"
   ]
  },
  {
   "cell_type": "code",
   "execution_count": 52,
   "metadata": {},
   "outputs": [],
   "source": [
    "def plot_validation_curve(estimator, title, X, y, \n",
    "                          param_name, param_range, cv, \n",
    "                          scoring=\"accuracy\"):\n",
    "                                                   \n",
    "    train_scores, test_scores = validation_curve(\n",
    "        estimator, X, y, param_name=param_name, param_range=param_range,\n",
    "        cv=cv, scoring=scoring, n_jobs=1)\n",
    "    train_scores_mean = np.mean(train_scores, axis=1)\n",
    "    train_scores_std = np.std(train_scores, axis=1)\n",
    "    test_scores_mean = np.mean(test_scores, axis=1)\n",
    "    test_scores_std = np.std(test_scores, axis=1)\n",
    "\n",
    "    plt.title(title)\n",
    "    plt.xlabel(param_name)\n",
    "    plt.ylabel(\"Score\")\n",
    "    plt.ylim(0.0, 1.1)\n",
    "    lw = 2\n",
    "    plt.plot(param_range, train_scores_mean, label=\"Training score\",\n",
    "                 color=\"darkorange\", lw=lw)\n",
    "    plt.fill_between(param_range, train_scores_mean - train_scores_std,\n",
    "                     train_scores_mean + train_scores_std, alpha=0.2,\n",
    "                     color=\"darkorange\", lw=lw)\n",
    "    plt.plot(param_range, test_scores_mean, label=\"Cross-validation score\",\n",
    "                 color=\"navy\", lw=lw)\n",
    "    plt.fill_between(param_range, test_scores_mean - test_scores_std,\n",
    "                     test_scores_mean + test_scores_std, alpha=0.2,\n",
    "                     color=\"navy\", lw=lw)\n",
    "    plt.legend(loc=\"best\")\n",
    "    return plt"
   ]
  },
  {
   "cell_type": "code",
   "execution_count": 53,
   "metadata": {},
   "outputs": [
    {
     "data": {
      "text/plain": [
       "<module 'matplotlib.pyplot' from 'C:\\\\anaconda3\\\\lib\\\\site-packages\\\\matplotlib\\\\pyplot.py'>"
      ]
     },
     "execution_count": 53,
     "metadata": {},
     "output_type": "execute_result"
    },
    {
     "data": {
      "image/png": "[encoded data removed]",
      "text/plain": [
       "<Figure size 432x288 with 1 Axes>"
      ]
     },
     "metadata": {},
     "output_type": "display_data"
    }
   ],
   "source": [
    "plot_validation_curve(KNeighborsClassifier(), 'knn', \n",
    "                      x_train, y_train, \n",
    "                      param_name='n_neighbors', param_range=n_range, \n",
    "                      cv=StratifiedKFold(n_splits=5), scoring=\"accuracy\")"
   ]
  },
  {
   "cell_type": "code",
   "execution_count": null,
   "metadata": {},
   "outputs": [],
   "source": []
  },
  {
   "cell_type": "code",
   "execution_count": null,
   "metadata": {},
   "outputs": [],
   "source": []
  },
  {
   "cell_type": "code",
   "execution_count": null,
   "metadata": {},
   "outputs": [],
   "source": []
  },
  {
   "cell_type": "code",
   "execution_count": null,
   "metadata": {},
   "outputs": [],
   "source": []
  },
  {
   "cell_type": "code",
   "execution_count": null,
   "metadata": {},
   "outputs": [],
   "source": []
  }
 ],
 "metadata": {
  "kernelspec": {
   "display_name": "Python 3",
   "language": "python",
   "name": "python3"
  },
  "language_info": {
   "codemirror_mode": {
    "name": "ipython",
    "version": 3
   },
   "file_extension": ".py",
   "mimetype": "text/x-python",
   "name": "python",
   "nbconvert_exporter": "python",
   "pygments_lexer": "ipython3",
   "version": "3.6.4"
  }
 },
 "nbformat": 4,
 "nbformat_minor": 2
}
